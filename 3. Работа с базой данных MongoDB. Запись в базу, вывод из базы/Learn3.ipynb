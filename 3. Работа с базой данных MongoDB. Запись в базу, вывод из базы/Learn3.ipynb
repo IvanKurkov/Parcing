{
 "cells": [
  {
   "cell_type": "markdown",
   "id": "38e03826",
   "metadata": {},
   "source": [
    "### 1. Развернуть у себя на компьютере/виртуальной машине/хостинге MongoDB и реализовать функцию, которая будет добавлять только новые вакансии/продукты в вашу базу.\n",
    "### 2. Написать функцию, которая производит поиск и выводит на экран вакансии с заработной платой больше введённой суммы (необходимо анализировать оба поля зарплаты). Для тех, кто выполнил задание с Росконтролем - напишите запрос для поиска продуктов с рейтингом не ниже введенного или качеством не ниже введенного (то есть цифра вводится одна, а запрос проверяет оба поля)"
   ]
  },
  {
   "cell_type": "code",
   "execution_count": 1,
   "id": "1c02fe6b",
   "metadata": {},
   "outputs": [],
   "source": [
    "from bs4 import BeautifulSoup as bs\n",
    "import requests\n",
    "import numpy as np\n",
    "import re\n",
    "import pandas as pd\n",
    "import json\n",
    "from pymongo import MongoClient\n",
    "from selenium import webdriver\n",
    "import time\n",
    "from pprint import pprint"
   ]
  },
  {
   "cell_type": "code",
   "execution_count": 2,
   "id": "d2f759dc",
   "metadata": {},
   "outputs": [],
   "source": [
    "client = MongoClient('localhost', 27017)\n",
    "db = client['pacring_job_sites_db']\n",
    "collection = db['hh_superjobs']"
   ]
  },
  {
   "cell_type": "code",
   "execution_count": 3,
   "id": "48b2963b",
   "metadata": {},
   "outputs": [
    {
     "name": "stdout",
     "output_type": "stream",
     "text": [
      "Какую должность ищем: Python\n",
      "Сколько страниц Superjobs анализировать: 1\n",
      "Сколько страниц HH анализировать: 1\n"
     ]
    }
   ],
   "source": [
    "# Определяем параметры\n",
    "\n",
    "vac = input(\"Какую должность ищем: \")\n",
    "max_list_sj = int(input(\"Сколько страниц Superjobs анализировать: \"))\n",
    "max_list_hh = int(input(\"Сколько страниц HH анализировать: \"))"
   ]
  },
  {
   "cell_type": "code",
   "execution_count": 4,
   "id": "efe8294a",
   "metadata": {},
   "outputs": [],
   "source": [
    "#Идея привести все ЗП к одному виду мне понравилась, попробовал тоже реализовать это.\n",
    "cur_req = requests.get(\"https://www.cbr-xml-daily.ru/daily_json.js\")    \n",
    "cur = json.loads(cur_req.text)  "
   ]
  },
  {
   "cell_type": "code",
   "execution_count": 5,
   "id": "a1515855",
   "metadata": {},
   "outputs": [
    {
     "name": "stderr",
     "output_type": "stream",
     "text": [
      "<ipython-input-5-6f90987c7f41>:7: DeprecationWarning: executable_path has been deprecated, please pass in a Service object\n",
      "  driver = webdriver.Chrome(executable_path=r\"..\\chromedriver.exe\")\n"
     ]
    }
   ],
   "source": [
    "# Забираем инфу с HH.ru\n",
    "\n",
    "\n",
    "\n",
    "for x in range(max_list_hh):\n",
    "    #Т.к. hh не отдает все карточки а только 20, пришлось использовать silenium чтобы сначала расскрывать страничку, потом парсить.\n",
    "    driver = webdriver.Chrome(executable_path=r\"..\\chromedriver.exe\")\n",
    "    driver.get(f'https://hh.ru/search/vacancy?area=1&fromSearchLine=true&text={vac}&from=suggest_post&page={x}')\n",
    "    time.sleep(5)\n",
    "    html = driver.page_source\n",
    "    #resphh = requests.get(f'https://hh.ru/search/vacancy?area=1&fromSearchLine=true&text={vac}&from=suggest_post&page={x}', headers = {'User-agent':'Chrome/63.0.3239.108'}).text\n",
    "    soup = bs(html, 'html.parser')\n",
    "    cards = soup.find_all(name='div', attrs={\"class\" : \"vacancy-serp-item\"} )\n",
    "    for i in cards:\n",
    "        name_job = i.find('a', attrs = {'data-qa': \"vacancy-serp__vacancy-title\"}).text\n",
    "        \n",
    "        link_job = i.find('a', attrs = {'data-qa': \"vacancy-serp__vacancy-title\"}).get('href')\n",
    "        \n",
    "        employer = i.find('a', attrs = {'data-qa': \"vacancy-serp__vacancy-employer\"}).text\n",
    "        employer_link = f\"https://hh.ru{i.find('a', attrs = {'data-qa': 'vacancy-serp__vacancy-employer'}).get('href')}\"\n",
    "        \n",
    "        address = i.find('div', attrs = {'data-qa': \"vacancy-serp__vacancy-address\"}).text\n",
    "        \n",
    "        cost = i.find('span', attrs = {'data-qa' : \"vacancy-serp__vacancy-compensation\"})\n",
    "        min_cost = np.nan\n",
    "        max_cost = np.nan\n",
    "        if cost:\n",
    "            cost = cost.text \n",
    "            cost = cost.replace(\"\\u202f\", \"\").replace(\" \", \"\")\n",
    "            if re.findall('^от[0-9]+', cost):\n",
    "                min_cost = int(re.findall('[0-9]+', cost)[0])\n",
    "            elif re.findall('^до[0-9]+', cost):\n",
    "                max_cost = int(re.findall('[0-9]+', cost)[0])\n",
    "            else:\n",
    "                min_cost = int(re.findall('[0-9]+', cost)[0])\n",
    "                max_cost = int(re.findall('[0-9]+', cost)[1])\n",
    "            if not re.findall('руб.', cost):\n",
    "                currency = re.findall('[A-Z]{2,5}', cost)[0]\n",
    "                if not np.isnan(min_cost):\n",
    "                    min_cost = int(min_cost*cur[\"Valute\"][currency][\"Value\"])//1000*1000\n",
    "                if not np.isnan(max_cost):\n",
    "                    max_cost = int(max_cost*cur[\"Valute\"][currency][\"Value\"])//1000*1000\n",
    "        #Собираем серию\n",
    "        \n",
    "        job_info = {}\n",
    "        job_info['Наименование должности'] = name_job\n",
    "        job_info['Ссылка на позицию'] = link_job\n",
    "        job_info['Минимальная ЗП'] = min_cost\n",
    "        job_info['Максимальная ЗП'] = max_cost\n",
    "        job_info['Сайт сбора позиции'] = \"hh.ru\"\n",
    "        job_info['Работадатель'] = employer\n",
    "        job_info['Ссылка на работодателя'] = employer_link\n",
    "        job_info['Место работы'] = address\n",
    "        \n",
    "        \n",
    "        #Вставляем в БД\n",
    "        \n",
    "        if not collection.find_one({'Ссылка на позицию' : job_info['Ссылка на позицию']}):\n",
    "            collection.insert_one(job_info)        \n"
   ]
  },
  {
   "cell_type": "code",
   "execution_count": 6,
   "id": "ea1f1a00",
   "metadata": {},
   "outputs": [],
   "source": [
    "# Забираем инфу с Superjobs.ru\n",
    "\n",
    "\n",
    "\n",
    "for x in range(max_list_sj):\n",
    "    resphh = requests.get(f'https://www.superjob.ru/vacancy/search/?keywords={vac}&page={x}', headers = {'User-agent':'Mozilla/5.0'}).text\n",
    "    soup = bs(resphh, 'html.parser')\n",
    "    cards = soup.find_all(name='div', attrs={\"class\" : \"f-test-vacancy-item\"})\n",
    "    \n",
    "    for i in cards:\n",
    "        name_job = i.find('a', attrs = {'class': \"_6AfZ9\"}).text\n",
    "        \n",
    "        \n",
    "        link_job = f\"https://www.superjob.ru{i.find('a', attrs = {'class': '_6AfZ9'}).get('href')}\"\n",
    "        employer = i.find('a', attrs = {'class': \"_205Zx\"})\n",
    "        if employer:\n",
    "            employer = i.find('a', attrs = {'class': \"_205Zx\"}).text\n",
    "        \n",
    "            employer_link = f\"https://www.superjob.ru{i.find('a', attrs = {'class': '_205Zx'}).get('href')}\"\n",
    "        else:\n",
    "            employer = np.nan\n",
    "            employer_link = np.nan\n",
    "\n",
    "        address = i.find('span', attrs = {'class': 'f-test-text-company-item-location'}).find(lambda tag: len(tag.attrs) == 0).text\n",
    "             \n",
    "        cost = i.find('span', attrs = {'class' : '_2Wp8I'})\n",
    "         \n",
    "        cost = cost.text\n",
    "        cost = cost.replace(\"\\xa0\", \"\").replace(\" \", \"\")\n",
    "        if not re.findall('[0-9]+', cost):\n",
    "            min_cost = np.nan\n",
    "            max_cost = np.nan                   \n",
    "        elif re.findall('^от[0-9]+', cost):\n",
    "            min_cost = int(re.findall('[0-9]+', cost)[0])\n",
    "        elif re.findall('^до[0-9]+', cost):\n",
    "            max_cost = int(re.findall('[0-9]+', cost)[0])\n",
    "        elif len(re.findall('[0-9]+', cost)) == 1:\n",
    "            min_cost = int(re.findall('[0-9]+', cost)[0])\n",
    "            max_cost = int(re.findall('[0-9]+', cost)[0])\n",
    "\n",
    "        else:\n",
    "            min_cost = int(re.findall('[0-9]+', cost)[0])\n",
    "            max_cost = int(re.findall('[0-9]+', cost)[1])\n",
    "        \n",
    "        if not re.findall('руб.', cost) and re.findall('[0-9]+', cost):\n",
    "            currency = re.findall('[A-Z]{2,5}', cost)[0]\n",
    "            if not np.isnan(min_cost):\n",
    "                min_cost = int(min_cost*cur[\"Valute\"][currency][\"Value\"])//1000*1000\n",
    "            if not np.isnan(max_cost):\n",
    "                max_cost = int(max_cost*cur[\"Valute\"][currency][\"Value\"])//1000*1000\n",
    "                \n",
    "        job_info = {}\n",
    "        job_info['Наименование должности'] = name_job\n",
    "        job_info['Ссылка на позицию'] = link_job\n",
    "        job_info['Минимальная ЗП'] = min_cost\n",
    "        job_info['Максимальная ЗП'] = max_cost\n",
    "        job_info['Сайт сбора позиции'] = \"superjob.ru\"\n",
    "        job_info['Работадатель'] = employer\n",
    "        job_info['Ссылка на работодателя'] = employer_link\n",
    "        job_info['Место работы'] = address\n",
    "        \n",
    "        #Вставляем в БД\n",
    "        \n",
    "        if not collection.find_one({'Ссылка на позицию' : job_info['Ссылка на позицию']}):\n",
    "            collection.insert_one(job_info)\n",
    "        \n",
    "        #\n",
    "        \n",
    "           \n"
   ]
  },
  {
   "cell_type": "code",
   "execution_count": 7,
   "id": "0e322080",
   "metadata": {},
   "outputs": [
    {
     "name": "stdout",
     "output_type": "stream",
     "text": [
      "От какой ЗП выводить: 9999999\n"
     ]
    }
   ],
   "source": [
    "my_salary = int(input(\"От какой ЗП выводить: \"))"
   ]
  },
  {
   "cell_type": "code",
   "execution_count": 8,
   "id": "573c8e61",
   "metadata": {},
   "outputs": [],
   "source": [
    "for i in collection.find({ \"$or\" : [{'Минимальная ЗП':{\"$gt\": my_salary}}, {'Максимальная ЗП':{\"$gt\": my_salary}}]}):\n",
    "    pprint(i)"
   ]
  },
  {
   "cell_type": "code",
   "execution_count": null,
   "id": "527724e2",
   "metadata": {},
   "outputs": [],
   "source": []
  }
 ],
 "metadata": {
  "kernelspec": {
   "display_name": "Python 3",
   "language": "python",
   "name": "python3"
  },
  "language_info": {
   "codemirror_mode": {
    "name": "ipython",
    "version": 3
   },
   "file_extension": ".py",
   "mimetype": "text/x-python",
   "name": "python",
   "nbconvert_exporter": "python",
   "pygments_lexer": "ipython3",
   "version": "3.8.8"
  }
 },
 "nbformat": 4,
 "nbformat_minor": 5
}

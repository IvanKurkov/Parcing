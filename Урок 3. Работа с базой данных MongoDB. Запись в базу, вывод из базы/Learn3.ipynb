{
 "cells": [
  {
   "cell_type": "markdown",
   "id": "38e03826",
   "metadata": {},
   "source": [
    "### 1. Развернуть у себя на компьютере/виртуальной машине/хостинге MongoDB и реализовать функцию, которая будет добавлять только новые вакансии/продукты в вашу базу.\n",
    "### 2. Написать функцию, которая производит поиск и выводит на экран вакансии с заработной платой больше введённой суммы (необходимо анализировать оба поля зарплаты). Для тех, кто выполнил задание с Росконтролем - напишите запрос для поиска продуктов с рейтингом не ниже введенного или качеством не ниже введенного (то есть цифра вводится одна, а запрос проверяет оба поля)"
   ]
  },
  {
   "cell_type": "code",
   "execution_count": 1,
   "id": "1c02fe6b",
   "metadata": {},
   "outputs": [],
   "source": [
    "from bs4 import BeautifulSoup as bs\n",
    "import requests\n",
    "import numpy as np\n",
    "import re\n",
    "import pandas as pd\n",
    "import json\n",
    "from pymongo import MongoClient\n",
    "from selenium import webdriver\n",
    "import time"
   ]
  },
  {
   "cell_type": "code",
   "execution_count": 2,
   "id": "d2f759dc",
   "metadata": {},
   "outputs": [],
   "source": [
    "client = MongoClient('localhost', 27017)\n",
    "db = client['pacring_job_sites_db']\n",
    "collection = db['hh_superjobs']"
   ]
  },
  {
   "cell_type": "code",
   "execution_count": 3,
   "id": "48b2963b",
   "metadata": {},
   "outputs": [
    {
     "name": "stdout",
     "output_type": "stream",
     "text": [
      "Какую должность ищем: python\n",
      "Сколько страниц Superjobs анализировать: 1\n",
      "Сколько страниц HH анализировать: 1\n"
     ]
    }
   ],
   "source": [
    "# Определяем параметры\n",
    "\n",
    "vac = input(\"Какую должность ищем: \")\n",
    "max_list_sj = int(input(\"Сколько страниц Superjobs анализировать: \"))\n",
    "max_list_hh = int(input(\"Сколько страниц HH анализировать: \"))"
   ]
  },
  {
   "cell_type": "code",
   "execution_count": 4,
   "id": "efe8294a",
   "metadata": {},
   "outputs": [],
   "source": [
    "#Идея привести все ЗП к одному виду мне понравилась, попробовал тоже реализовать это.\n",
    "cur_req = requests.get(\"https://www.cbr-xml-daily.ru/daily_json.js\")    \n",
    "cur = json.loads(cur_req.text)  "
   ]
  },
  {
   "cell_type": "code",
   "execution_count": 5,
   "id": "a1515855",
   "metadata": {},
   "outputs": [
    {
     "name": "stderr",
     "output_type": "stream",
     "text": [
      "<ipython-input-5-0190712a1502>:7: DeprecationWarning: executable_path has been deprecated, please pass in a Service object\n",
      "  driver = webdriver.Chrome(executable_path=r\"..\\chromedriver.exe\")\n"
     ]
    }
   ],
   "source": [
    "# Забираем инфу с HH.ru\n",
    "\n",
    "\n",
    "\n",
    "for x in range(max_list_hh):\n",
    "    #Т.к. hh не отдает все карточки а только 20, пришлось использовать silenium чтобы сначала расскрывать страничку, потом парсить.\n",
    "    driver = webdriver.Chrome(executable_path=r\"..\\chromedriver.exe\")\n",
    "    driver.get(f'https://hh.ru/search/vacancy?area=1&fromSearchLine=true&text={vac}&from=suggest_post&page={x}')\n",
    "    time.sleep(5)\n",
    "    html = driver.page_source\n",
    "    #resphh = requests.get(f'https://hh.ru/search/vacancy?area=1&fromSearchLine=true&text={vac}&from=suggest_post&page={x}', headers = {'User-agent':'Chrome/63.0.3239.108'}).text\n",
    "    soup = bs(html, 'html.parser')\n",
    "    cards = soup.find_all(name='div', attrs={\"class\" : \"vacancy-serp-item\"} )\n",
    "    for i in cards:\n",
    "        name_job = i.find('a', attrs = {'data-qa': \"vacancy-serp__vacancy-title\"}).text\n",
    "        \n",
    "        link_job = i.find('a', attrs = {'data-qa': \"vacancy-serp__vacancy-title\"}).get('href')\n",
    "        \n",
    "        employer = i.find('a', attrs = {'data-qa': \"vacancy-serp__vacancy-employer\"}).text\n",
    "        employer_link = f\"https://hh.ru{i.find('a', attrs = {'data-qa': 'vacancy-serp__vacancy-employer'}).get('href')}\"\n",
    "        \n",
    "        address = i.find('div', attrs = {'data-qa': \"vacancy-serp__vacancy-address\"}).text\n",
    "        \n",
    "        cost = i.find('span', attrs = {'data-qa' : \"vacancy-serp__vacancy-compensation\"})\n",
    "        min_cost = np.nan\n",
    "        max_cost = np.nan\n",
    "        if cost:\n",
    "            cost = cost.text \n",
    "            cost = cost.replace(\"\\u202f\", \"\").replace(\" \", \"\")\n",
    "            if re.findall('^от[0-9]+', cost):\n",
    "                min_cost = int(re.findall('[0-9]+', cost)[0])\n",
    "            elif re.findall('^до[0-9]+', cost):\n",
    "                max_cost = int(re.findall('[0-9]+', cost)[0])\n",
    "            else:\n",
    "                min_cost = int(re.findall('[0-9]+', cost)[0])\n",
    "                max_cost = int(re.findall('[0-9]+', cost)[1])\n",
    "            if not re.findall('руб.', cost):\n",
    "                currency = re.findall('[A-Z]{2,5}', cost)[0]\n",
    "                if not np.isnan(min_cost):\n",
    "                    min_cost = int(min_cost*cur[\"Valute\"][currency][\"Value\"])//1000*1000\n",
    "                if not np.isnan(max_cost):\n",
    "                    max_cost = int(max_cost*cur[\"Valute\"][currency][\"Value\"])//1000*1000\n",
    "        #Собираем серию\n",
    "        \n",
    "        job_info = {}\n",
    "        job_info['Наименование должности'] = name_job\n",
    "        job_info['Ссылка на позицию'] = link_job\n",
    "        job_info['Минимальная ЗП'] = min_cost\n",
    "        job_info['Максимальная ЗП'] = max_cost\n",
    "        job_info['Сайт сбора позиции'] = \"hh.ru\"\n",
    "        job_info['Работадатель'] = employer\n",
    "        job_info['Ссылка на работодателя'] = employer_link\n",
    "        job_info['Место работы'] = address\n",
    "        \n",
    "        \n",
    "        #Вставляем в БД\n",
    "        \n",
    "        collection.update_one({'Ссылка на позицию' : job_info['Ссылка на позицию']}, { '$set' : job_info }, upsert=True)\n",
    "        \n",
    "        #Таким образом получается, что даже если при поиске с разными запросами выдается одна и таже вакансия, то в базу она не дублируется, т.к. ссылка на вакансию статична.\n",
    "        \n"
   ]
  },
  {
   "cell_type": "code",
   "execution_count": 6,
   "id": "ea1f1a00",
   "metadata": {},
   "outputs": [],
   "source": [
    "# Забираем инфу с Superjobs.ru\n",
    "\n",
    "\n",
    "\n",
    "for x in range(max_list_sj):\n",
    "    resphh = requests.get(f'https://www.superjob.ru/vacancy/search/?keywords={vac}&page={x}', headers = {'User-agent':'Mozilla/5.0'}).text\n",
    "    soup = bs(resphh, 'html.parser')\n",
    "    cards = soup.find_all(name='div', attrs={\"class\" : \"f-test-vacancy-item\"})\n",
    "    \n",
    "    for i in cards:\n",
    "        name_job = i.find('a', attrs = {'class': \"_6AfZ9\"}).text\n",
    "        \n",
    "        \n",
    "        link_job = f\"https://www.superjob.ru{i.find('a', attrs = {'class': '_6AfZ9'}).get('href')}\"\n",
    "        employer = i.find('a', attrs = {'class': \"_205Zx\"})\n",
    "        if employer:\n",
    "            employer = i.find('a', attrs = {'class': \"_205Zx\"}).text\n",
    "        \n",
    "            employer_link = f\"https://www.superjob.ru{i.find('a', attrs = {'class': '_205Zx'}).get('href')}\"\n",
    "        else:\n",
    "            employer = np.nan\n",
    "            employer_link = np.nan\n",
    "\n",
    "        address = i.find('span', attrs = {'class': 'f-test-text-company-item-location'}).find(lambda tag: len(tag.attrs) == 0).text\n",
    "             \n",
    "        cost = i.find('span', attrs = {'class' : '_2Wp8I'})\n",
    "         \n",
    "        cost = cost.text\n",
    "        cost = cost.replace(\"\\xa0\", \"\").replace(\" \", \"\")\n",
    "        if not re.findall('[0-9]+', cost):\n",
    "            min_cost = np.nan\n",
    "            max_cost = np.nan                   \n",
    "        elif re.findall('^от[0-9]+', cost):\n",
    "            min_cost = int(re.findall('[0-9]+', cost)[0])\n",
    "        elif re.findall('^до[0-9]+', cost):\n",
    "            max_cost = int(re.findall('[0-9]+', cost)[0])\n",
    "        elif len(re.findall('[0-9]+', cost)) == 1:\n",
    "            min_cost = int(re.findall('[0-9]+', cost)[0])\n",
    "            max_cost = int(re.findall('[0-9]+', cost)[0])\n",
    "\n",
    "        else:\n",
    "            min_cost = int(re.findall('[0-9]+', cost)[0])\n",
    "            max_cost = int(re.findall('[0-9]+', cost)[1])\n",
    "        \n",
    "        if not re.findall('руб.', cost) and re.findall('[0-9]+', cost):\n",
    "            currency = re.findall('[A-Z]{2,5}', cost)[0]\n",
    "            if not np.isnan(min_cost):\n",
    "                min_cost = int(min_cost*cur[\"Valute\"][currency][\"Value\"])//1000*1000\n",
    "            if not np.isnan(max_cost):\n",
    "                max_cost = int(max_cost*cur[\"Valute\"][currency][\"Value\"])//1000*1000\n",
    "                \n",
    "        job_info = {}\n",
    "        job_info['Наименование должности'] = name_job\n",
    "        job_info['Ссылка на позицию'] = link_job\n",
    "        job_info['Минимальная ЗП'] = min_cost\n",
    "        job_info['Максимальная ЗП'] = max_cost\n",
    "        job_info['Сайт сбора позиции'] = \"superjob.ru\"\n",
    "        job_info['Работадатель'] = employer\n",
    "        job_info['Ссылка на работодателя'] = employer_link\n",
    "        job_info['Место работы'] = address\n",
    "        \n",
    "        #Вставляем в БД\n",
    "        \n",
    "        collection.update_one({'Ссылка на позицию' : job_info['Ссылка на позицию']}, { '$set' : job_info }, upsert=True)\n",
    "        \n",
    "        #\n",
    "        \n",
    "           \n"
   ]
  },
  {
   "cell_type": "code",
   "execution_count": 7,
   "id": "e053edd3",
   "metadata": {},
   "outputs": [
    {
     "name": "stdout",
     "output_type": "stream",
     "text": [
      "243\n"
     ]
    }
   ],
   "source": [
    "print(len([i for i in collection.find({})]))\n",
    "#Проверяем увеличивается ли коллекция, если пытаться добавить те же самые значения \\ добавлять новые"
   ]
  },
  {
   "cell_type": "code",
   "execution_count": 8,
   "id": "0e322080",
   "metadata": {},
   "outputs": [
    {
     "name": "stdout",
     "output_type": "stream",
     "text": [
      "От какой ЗП выводить: 200000\n"
     ]
    }
   ],
   "source": [
    "my_salary = int(input(\"От какой ЗП выводить: \"))"
   ]
  },
  {
   "cell_type": "code",
   "execution_count": 9,
   "id": "573c8e61",
   "metadata": {},
   "outputs": [
    {
     "name": "stdout",
     "output_type": "stream",
     "text": [
      "{'_id': ObjectId('617ff84e548ef7e46c077f92'), 'Максимальная ЗП': nan, 'Место работы': 'Москва', 'Минимальная ЗП': 248000, 'Наименование должности': 'Middle/Senior Python developer', 'Работадатель': 'Unikoom', 'Сайт сбора позиции': 'hh.ru', 'Ссылка на позицию': 'https://hh.ru/vacancy/49194069?from=vacancy_search_list&query=Python', 'Ссылка на работодателя': 'https://hh.ru/employer/5144162'}\n",
      "{'_id': ObjectId('617ff84e548ef7e46c077f94'), 'Максимальная ЗП': 380000, 'Место работы': 'Москва', 'Минимальная ЗП': nan, 'Наименование должности': 'Python разработчик', 'Работадатель': 'Точка', 'Сайт сбора позиции': 'hh.ru', 'Ссылка на позицию': 'https://hh.ru/vacancy/47682360?from=vacancy_search_list&query=Python', 'Ссылка на работодателя': 'https://hh.ru/employer/2324020'}\n",
      "{'_id': ObjectId('617ff84e548ef7e46c077fa0'), 'Максимальная ЗП': 520000, 'Место работы': 'Москва', 'Минимальная ЗП': 330000, 'Наименование должности': 'Senior Back-end Engineer (Python)', 'Работадатель': 'Corrily', 'Сайт сбора позиции': 'hh.ru', 'Ссылка на позицию': 'https://hh.ru/vacancy/48855094?from=vacancy_search_list&query=Python', 'Ссылка на работодателя': 'https://hh.ru/employer/5787201'}\n",
      "{'_id': ObjectId('617ff84e548ef7e46c077fa2'), 'Максимальная ЗП': 320000, 'Место работы': 'Москва, Баррикадная и еще 1 ', 'Минимальная ЗП': 150000, 'Наименование должности': 'Python разработчик', 'Работадатель': 'АО\\xa0Семейный доктор', 'Сайт сбора позиции': 'hh.ru', 'Ссылка на позицию': 'https://hh.ru/vacancy/37486302?from=vacancy_search_list&query=Python', 'Ссылка на работодателя': 'https://hh.ru/employer/142683'}\n",
      "{'_id': ObjectId('617ff84e548ef7e46c077faa'), 'Максимальная ЗП': 450000, 'Место работы': 'Москва', 'Минимальная ЗП': 250000, 'Наименование должности': 'Python Backend Developer Blockchain', 'Работадатель': 'ИП\\xa0Валовой Сергей Александрович', 'Сайт сбора позиции': 'hh.ru', 'Ссылка на позицию': 'https://hh.ru/vacancy/48663627?from=vacancy_search_list&query=Python', 'Ссылка на работодателя': 'https://hh.ru/employer/5420312'}\n",
      "{'_id': ObjectId('617ff84e548ef7e46c077fae'), 'Максимальная ЗП': 300000, 'Место работы': 'Москва, Белорусская', 'Минимальная ЗП': 150000, 'Наименование должности': 'Python developer / Data engineer (Middle)', 'Работадатель': 'Wunder Fund', 'Сайт сбора позиции': 'hh.ru', 'Ссылка на позицию': 'https://hh.ru/vacancy/49252631?from=vacancy_search_list&query=Python', 'Ссылка на работодателя': 'https://hh.ru/employer/4558995'}\n",
      "{'_id': ObjectId('617ff84e548ef7e46c077fb0'), 'Максимальная ЗП': 220000, 'Место работы': 'Москва', 'Минимальная ЗП': 150000, 'Наименование должности': 'Бэкенд-разработчик Python/Middle Python/ Python Developer (Remote)', 'Работадатель': 'ЮТэйр, Авиакомпания', 'Сайт сбора позиции': 'hh.ru', 'Ссылка на позицию': 'https://hh.ru/vacancy/48638057?from=vacancy_search_list&query=Python', 'Ссылка на работодателя': 'https://hh.ru/employer/17713'}\n",
      "{'_id': ObjectId('617ff84e548ef7e46c077fb2'), 'Максимальная ЗП': nan, 'Место работы': 'Москва', 'Минимальная ЗП': 300000, 'Наименование должности': 'Разработчик Rust/Разработчик Go/Разрабочтик python(удаленно)', 'Работадатель': 'ArtVolkov.ru', 'Сайт сбора позиции': 'hh.ru', 'Ссылка на позицию': 'https://hh.ru/vacancy/48457284?from=vacancy_search_list&query=Python', 'Ссылка на работодателя': 'https://hh.ru/employer/578702'}\n",
      "{'_id': ObjectId('617ff84e548ef7e46c077fb4'), 'Максимальная ЗП': 230000, 'Место работы': 'Москва', 'Минимальная ЗП': 150000, 'Наименование должности': 'Data Scientist', 'Работадатель': 'RIPE Capital', 'Сайт сбора позиции': 'hh.ru', 'Ссылка на позицию': 'https://hh.ru/vacancy/49257549?from=vacancy_search_list&query=Python', 'Ссылка на работодателя': 'https://hh.ru/employer/5823992'}\n",
      "{'_id': ObjectId('617ff84e548ef7e46c077fb6'), 'Максимальная ЗП': 300000, 'Место работы': 'Москва', 'Минимальная ЗП': nan, 'Наименование должности': 'Python - разработчик', 'Работадатель': 'Цифратэкс', 'Сайт сбора позиции': 'hh.ru', 'Ссылка на позицию': 'https://hh.ru/vacancy/49210221?from=vacancy_search_list&query=Python', 'Ссылка на работодателя': 'https://hh.ru/employer/5736937'}\n",
      "{'_id': ObjectId('617ff84e548ef7e46c077fb8'), 'Максимальная ЗП': nan, 'Место работы': 'Москва, Менделеевская', 'Минимальная ЗП': 250000, 'Наименование должности': 'Middle Python-разработчик', 'Работадатель': 'FINPAY', 'Сайт сбора позиции': 'hh.ru', 'Ссылка на позицию': 'https://hh.ru/vacancy/49121141?from=vacancy_search_list&query=Python', 'Ссылка на работодателя': 'https://hh.ru/employer/5211392'}\n",
      "{'_id': ObjectId('617ff84e548ef7e46c077fba'), 'Максимальная ЗП': 400000, 'Место работы': 'Москва', 'Минимальная ЗП': nan, 'Наименование должности': 'Python developer', 'Работадатель': 'Spice Agency', 'Сайт сбора позиции': 'hh.ru', 'Ссылка на позицию': 'https://hh.ru/vacancy/47322083?from=vacancy_search_list&query=Python', 'Ссылка на работодателя': 'https://hh.ru/employer/654435'}\n",
      "{'_id': ObjectId('617ff84e548ef7e46c077fc0'), 'Максимальная ЗП': 350000, 'Место работы': 'Москва, Курская и еще 2 ', 'Минимальная ЗП': 300000, 'Наименование должности': 'Senior Backend Developer (Python)', 'Работадатель': 'TIMELESS (ООО Оксбридж)', 'Сайт сбора позиции': 'hh.ru', 'Ссылка на позицию': 'https://hh.ru/vacancy/48449017?from=vacancy_search_list&query=Python', 'Ссылка на работодателя': 'https://hh.ru/employer/4421267'}\n",
      "{'_id': ObjectId('617ff84e548ef7e46c077fc4'), 'Максимальная ЗП': 300000, 'Место работы': 'Москва', 'Минимальная ЗП': 150000, 'Наименование должности': 'Backend разработчик (Python)', 'Работадатель': 'izi', 'Сайт сбора позиции': 'hh.ru', 'Ссылка на позицию': 'https://hh.ru/vacancy/48960196?from=vacancy_search_list&query=Python', 'Ссылка на работодателя': 'https://hh.ru/employer/5800791'}\n",
      "{'_id': ObjectId('617ff84e548ef7e46c077fc8'), 'Максимальная ЗП': nan, 'Место работы': 'Москва, Менделеевская', 'Минимальная ЗП': 300000, 'Наименование должности': 'Senior Python-разработчик', 'Работадатель': 'FINPAY', 'Сайт сбора позиции': 'hh.ru', 'Ссылка на позицию': 'https://hh.ru/vacancy/49121112?from=vacancy_search_list&query=Python', 'Ссылка на работодателя': 'https://hh.ru/employer/5211392'}\n",
      "{'_id': ObjectId('617ff84e548ef7e46c077fca'), 'Максимальная ЗП': 250000, 'Место работы': 'Москва', 'Минимальная ЗП': 180000, 'Наименование должности': 'Middle Python/Flask developer', 'Работадатель': 'ООО\\xa0Эксперум', 'Сайт сбора позиции': 'hh.ru', 'Ссылка на позицию': 'https://hh.ru/vacancy/48641636?from=vacancy_search_list&query=Python', 'Ссылка на работодателя': 'https://hh.ru/employer/3912653'}\n",
      "{'_id': ObjectId('617ff84e548ef7e46c077fd0'), 'Максимальная ЗП': 250000, 'Место работы': 'Москва', 'Минимальная ЗП': 180000, 'Наименование должности': 'Data Scientist', 'Работадатель': 'CORE', 'Сайт сбора позиции': 'hh.ru', 'Ссылка на позицию': 'https://hh.ru/vacancy/48434078?from=vacancy_search_list&query=Python', 'Ссылка на работодателя': 'https://hh.ru/employer/1664868'}\n",
      "{'_id': ObjectId('617ff84e548ef7e46c077fd2'), 'Максимальная ЗП': 400000, 'Место работы': 'Москва', 'Минимальная ЗП': 350000, 'Наименование должности': 'Python Team Lead (python3.8. + django)', 'Работадатель': 'TopsWeTeam', 'Сайт сбора позиции': 'hh.ru', 'Ссылка на позицию': 'https://hh.ru/vacancy/48493368?from=vacancy_search_list&query=Python', 'Ссылка на работодателя': 'https://hh.ru/employer/5753850'}\n",
      "{'_id': ObjectId('617ff84e548ef7e46c077fd6'), 'Максимальная ЗП': 220000, 'Место работы': 'Москва', 'Минимальная ЗП': nan, 'Наименование должности': 'Python-developer', 'Работадатель': 'Carely', 'Сайт сбора позиции': 'hh.ru', 'Ссылка на позицию': 'https://hh.ru/vacancy/48710861?from=vacancy_search_list&query=Python', 'Ссылка на работодателя': 'https://hh.ru/employer/2464267'}\n",
      "{'_id': ObjectId('617ff84e548ef7e46c077fd8'), 'Максимальная ЗП': 369000, 'Место работы': 'Москва', 'Минимальная ЗП': 164000, 'Наименование должности': 'Senior Python-разработчик', 'Работадатель': 'IBIT', 'Сайт сбора позиции': 'hh.ru', 'Ссылка на позицию': 'https://hh.ru/vacancy/47987566?from=vacancy_search_list&query=Python', 'Ссылка на работодателя': 'https://hh.ru/employer/1818108'}\n",
      "{'_id': ObjectId('617ff84e548ef7e46c077fda'), 'Максимальная ЗП': 320000, 'Место работы': 'Москва', 'Минимальная ЗП': 230000, 'Наименование должности': 'Senior Python Engineer (Remote)', 'Работадатель': 'Spark Equation', 'Сайт сбора позиции': 'hh.ru', 'Ссылка на позицию': 'https://hh.ru/vacancy/47213315?from=vacancy_search_list&query=Python', 'Ссылка на работодателя': 'https://hh.ru/employer/1787419'}\n",
      "{'_id': ObjectId('617ff84e548ef7e46c077fdc'), 'Максимальная ЗП': nan, 'Место работы': 'Москва', 'Минимальная ЗП': 230000, 'Наименование должности': 'Python разработчик', 'Работадатель': 'Ассоциация IPChain', 'Сайт сбора позиции': 'hh.ru', 'Ссылка на позицию': 'https://hh.ru/vacancy/49226749?from=vacancy_search_list&query=Python', 'Ссылка на работодателя': 'https://hh.ru/employer/3151408'}\n",
      "{'_id': ObjectId('617ff84e548ef7e46c077fe6'), 'Максимальная ЗП': 220000, 'Место работы': 'Москва, Сухаревская', 'Минимальная ЗП': 170000, 'Наименование должности': 'Разработчик-Python (Django, DRF)', 'Работадатель': 'ООО\\xa0Фабрика Решений', 'Сайт сбора позиции': 'hh.ru', 'Ссылка на позицию': 'https://hh.ru/vacancy/43242292?from=vacancy_search_list&query=Python', 'Ссылка на работодателя': 'https://hh.ru/employer/4596113'}\n",
      "{'_id': ObjectId('617ff84e548ef7e46c077fe8'), 'Максимальная ЗП': 300000, 'Место работы': 'Москва', 'Минимальная ЗП': 250000, 'Наименование должности': 'Senior Python developer (python3.8. + django)', 'Работадатель': 'TopsWeTeam', 'Сайт сбора позиции': 'hh.ru', 'Ссылка на позицию': 'https://hh.ru/vacancy/48618742?from=vacancy_search_list&query=Python', 'Ссылка на работодателя': 'https://hh.ru/employer/5753850'}\n",
      "{'_id': ObjectId('617ff84e548ef7e46c077fea'), 'Максимальная ЗП': nan, 'Место работы': 'Москва', 'Минимальная ЗП': 213000, 'Наименование должности': 'Python developer (проект)', 'Работадатель': 'ООО\\xa0Грин Грей Софтворкс', 'Сайт сбора позиции': 'hh.ru', 'Ссылка на позицию': 'https://hh.ru/vacancy/48875298?from=vacancy_search_list&query=Python', 'Ссылка на работодателя': 'https://hh.ru/employer/5008916'}\n",
      "{'_id': ObjectId('617ff84e548ef7e46c077fec'), 'Максимальная ЗП': nan, 'Место работы': 'Москва', 'Минимальная ЗП': 280000, 'Наименование должности': 'Lead Backend Developer (Python)', 'Работадатель': 'ООО\\xa0Иглу', 'Сайт сбора позиции': 'hh.ru', 'Ссылка на позицию': 'https://hh.ru/vacancy/48962437?from=vacancy_search_list&query=Python', 'Ссылка на работодателя': 'https://hh.ru/employer/4026570'}\n",
      "{'_id': ObjectId('617ff84e548ef7e46c077fee'), 'Максимальная ЗП': 250000, 'Место работы': 'Москва, Маяковская и еще 1 ', 'Минимальная ЗП': 110000, 'Наименование должности': 'Python Django developer', 'Работадатель': 'ООО\\xa0БОЛЬШАЯ ТРОЙКА', 'Сайт сбора позиции': 'hh.ru', 'Ссылка на позицию': 'https://hh.ru/vacancy/48701378?from=vacancy_search_list&query=Python', 'Ссылка на работодателя': 'https://hh.ru/employer/2464195'}\n",
      "{'_id': ObjectId('617ff84e548ef7e46c077ff2'), 'Максимальная ЗП': 250000, 'Место работы': 'Москва', 'Минимальная ЗП': 180000, 'Наименование должности': 'Middle Data Engineer', 'Работадатель': 'Educate Online Inc', 'Сайт сбора позиции': 'hh.ru', 'Ссылка на позицию': 'https://hh.ru/vacancy/49244803?from=vacancy_search_list&query=Python', 'Ссылка на работодателя': 'https://hh.ru/employer/4068399'}\n",
      "{'_id': ObjectId('617ff85e548ef7e46c077ff8'), 'Максимальная ЗП': 270000, 'Место работы': 'Москва, Выставочная', 'Минимальная ЗП': 220000, 'Наименование должности': 'Python разработчик Senior', 'Работадатель': 'ООО\\xa0Строительный Двор', 'Сайт сбора позиции': 'hh.ru', 'Ссылка на позицию': 'https://hh.ru/vacancy/41541061?from=vacancy_search_list&query=Python', 'Ссылка на работодателя': 'https://hh.ru/employer/665449'}\n",
      "{'_id': ObjectId('617ff85e548ef7e46c077ffe'), 'Максимальная ЗП': 500000, 'Место работы': 'Москва, Площадь Гагарина', 'Минимальная ЗП': nan, 'Наименование должности': 'Python разработчик (senior) (backend)/ Backend Team lead', 'Работадатель': 'ООО\\xa0Лендсбэй', 'Сайт сбора позиции': 'hh.ru', 'Ссылка на позицию': 'https://hh.ru/vacancy/43941903?from=vacancy_search_list&query=Python', 'Ссылка на работодателя': 'https://hh.ru/employer/3497676'}\n",
      "{'_id': ObjectId('617ff85e548ef7e46c078002'), 'Максимальная ЗП': nan, 'Место работы': 'Москва, Курская', 'Минимальная ЗП': 213000, 'Наименование должности': 'Quantitative Developer (Python)', 'Работадатель': 'Profluent Group', 'Сайт сбора позиции': 'hh.ru', 'Ссылка на позицию': 'https://hh.ru/vacancy/49231766?from=vacancy_search_list&query=Python', 'Ссылка на работодателя': 'https://hh.ru/employer/4871538'}\n",
      "{'_id': ObjectId('617ff85e548ef7e46c078004'), 'Максимальная ЗП': 250000, 'Место работы': 'Москва', 'Минимальная ЗП': 200000, 'Наименование должности': 'Python разработчик (Middle+/Senior)', 'Работадатель': 'ООО\\xa0Строительный Двор', 'Сайт сбора позиции': 'hh.ru', 'Ссылка на позицию': 'https://hh.ru/vacancy/45806688?from=vacancy_search_list&query=Python', 'Ссылка на работодателя': 'https://hh.ru/employer/665449'}\n",
      "{'_id': ObjectId('617ff85e548ef7e46c078008'), 'Максимальная ЗП': 300000, 'Место работы': 'Москва', 'Минимальная ЗП': nan, 'Наименование должности': 'Python developer', 'Работадатель': 'Wanted', 'Сайт сбора позиции': 'hh.ru', 'Ссылка на позицию': 'https://hh.ru/vacancy/49293533?from=vacancy_search_list&query=Python', 'Ссылка на работодателя': 'https://hh.ru/employer/5174849'}\n",
      "{'_id': ObjectId('617ff85e548ef7e46c07800a'), 'Максимальная ЗП': nan, 'Место работы': 'Москва', 'Минимальная ЗП': 300000, 'Наименование должности': 'Senior QA Automation Engineer (Python)', 'Работадатель': 'Scalable Solutions', 'Сайт сбора позиции': 'hh.ru', 'Ссылка на позицию': 'https://hh.ru/vacancy/45114743?from=vacancy_search_list&query=Python', 'Ссылка на работодателя': 'https://hh.ru/employer/5078562'}\n",
      "{'_id': ObjectId('617ff85e548ef7e46c07800c'), 'Максимальная ЗП': 280000, 'Место работы': 'Москва', 'Минимальная ЗП': 120000, 'Наименование должности': 'Python developer (middle/senior)', 'Работадатель': 'Кадровое агентство Smart Business', 'Сайт сбора позиции': 'hh.ru', 'Ссылка на позицию': 'https://hh.ru/vacancy/48195683?from=vacancy_search_list&query=Python', 'Ссылка на работодателя': 'https://hh.ru/employer/4775316'}\n",
      "{'_id': ObjectId('617ff85e548ef7e46c07800e'), 'Максимальная ЗП': 250000, 'Место работы': 'Москва', 'Минимальная ЗП': 30000, 'Наименование должности': 'Программист-стажер JavaScript / Python', 'Работадатель': 'Системы и Сети', 'Сайт сбора позиции': 'hh.ru', 'Ссылка на позицию': 'https://hh.ru/vacancy/49245912?from=vacancy_search_list&query=Python', 'Ссылка на работодателя': 'https://hh.ru/employer/5286912'}\n",
      "{'_id': ObjectId('617ff85e548ef7e46c078010'), 'Максимальная ЗП': nan, 'Место работы': 'Москва, Белорусская', 'Минимальная ЗП': 250000, 'Наименование должности': 'Senior Python Developer', 'Работадатель': 'inDriver', 'Сайт сбора позиции': 'hh.ru', 'Ссылка на позицию': 'https://hh.ru/vacancy/48806805?from=vacancy_search_list&query=Python', 'Ссылка на работодателя': 'https://hh.ru/employer/2524797'}\n",
      "{'_id': ObjectId('617ff85e548ef7e46c078012'), 'Максимальная ЗП': 250000, 'Место работы': 'Москва', 'Минимальная ЗП': 150000, 'Наименование должности': 'Data Scientist / Computer Vision Engineer (удаленно)', 'Работадатель': 'ZennoLab', 'Сайт сбора позиции': 'hh.ru', 'Ссылка на позицию': 'https://hh.ru/vacancy/47622649?from=vacancy_search_list&query=Python', 'Ссылка на работодателя': 'https://hh.ru/employer/723714'}\n",
      "{'_id': ObjectId('617ff85e548ef7e46c078014'), 'Максимальная ЗП': nan, 'Место работы': 'Москва', 'Минимальная ЗП': 230000, 'Наименование должности': 'Senior Python developer', 'Работадатель': 'Fitingo', 'Сайт сбора позиции': 'hh.ru', 'Ссылка на позицию': 'https://hh.ru/vacancy/47554572?from=vacancy_search_list&query=Python', 'Ссылка на работодателя': 'https://hh.ru/employer/5677303'}\n",
      "{'_id': ObjectId('617ff85e548ef7e46c078016'), 'Максимальная ЗП': 250000, 'Место работы': 'Москва', 'Минимальная ЗП': 180000, 'Наименование должности': 'Middle QA Automation Engineer (Python)', 'Работадатель': 'Scalable Solutions', 'Сайт сбора позиции': 'hh.ru', 'Ссылка на позицию': 'https://hh.ru/vacancy/43394113?from=vacancy_search_list&query=Python', 'Ссылка на работодателя': 'https://hh.ru/employer/5078562'}\n",
      "{'_id': ObjectId('617ff85e548ef7e46c07801e'), 'Максимальная ЗП': 220000, 'Место работы': 'Москва', 'Минимальная ЗП': 180000, 'Наименование должности': 'Python/Django разработчик (Middle/Senjor)', 'Работадатель': 'ООО\\xa0Твой Рынок Онлайн', 'Сайт сбора позиции': 'hh.ru', 'Ссылка на позицию': 'https://hh.ru/vacancy/49226247?from=vacancy_search_list&query=Python', 'Ссылка на работодателя': 'https://hh.ru/employer/5561345'}\n",
      "{'_id': ObjectId('617ff85e548ef7e46c078024'), 'Максимальная ЗП': 355000, 'Место работы': 'Москва', 'Минимальная ЗП': 213000, 'Наименование должности': 'Python Senior Backend Developer', 'Работадатель': 'GenX', 'Сайт сбора позиции': 'hh.ru', 'Ссылка на позицию': 'https://hh.ru/vacancy/48707258?from=vacancy_search_list&query=Python', 'Ссылка на работодателя': 'https://hh.ru/employer/5153580'}\n",
      "{'_id': ObjectId('617ff85e548ef7e46c07802c'), 'Максимальная ЗП': 300000, 'Место работы': 'Москва', 'Минимальная ЗП': 180000, 'Наименование должности': 'Senior QA Automation Engineer в AI-стартап (Python, API)', 'Работадатель': 'Intento, Inc.', 'Сайт сбора позиции': 'hh.ru', 'Ссылка на позицию': 'https://hh.ru/vacancy/49068635?from=vacancy_search_list&query=Python', 'Ссылка на работодателя': 'https://hh.ru/employer/2434162'}\n",
      "{'_id': ObjectId('617ff85e548ef7e46c078030'), 'Максимальная ЗП': 426000, 'Место работы': 'Москва', 'Минимальная ЗП': 284000, 'Наименование должности': 'Python/Django Web Developer (Remote)', 'Работадатель': 'Soshace', 'Сайт сбора позиции': 'hh.ru', 'Ссылка на позицию': 'https://hh.ru/vacancy/49019839?from=vacancy_search_list&query=Python', 'Ссылка на работодателя': 'https://hh.ru/employer/1738507'}\n",
      "{'_id': ObjectId('617ff85e548ef7e46c078032'), 'Максимальная ЗП': 300000, 'Место работы': 'Москва', 'Минимальная ЗП': nan, 'Наименование должности': 'Data Analyst', 'Работадатель': '4CV Recruitment Services', 'Сайт сбора позиции': 'hh.ru', 'Ссылка на позицию': 'https://hh.ru/vacancy/48502218?from=vacancy_search_list&query=Python', 'Ссылка на работодателя': 'https://hh.ru/employer/5231648'}\n",
      "{'_id': ObjectId('617ff85e548ef7e46c07803a'), 'Максимальная ЗП': 230000, 'Место работы': 'Москва, Выставочная и еще 2 ', 'Минимальная ЗП': 180000, 'Наименование должности': 'Python developer', 'Работадатель': 'B2Broker Москва', 'Сайт сбора позиции': 'hh.ru', 'Ссылка на позицию': 'https://hh.ru/vacancy/49120397?from=vacancy_search_list&query=Python', 'Ссылка на работодателя': 'https://hh.ru/employer/2234168?dpt=2234168-2234168-msk'}\n",
      "{'_id': ObjectId('617ff85e548ef7e46c07803c'), 'Максимальная ЗП': 300000, 'Место работы': 'Москва', 'Минимальная ЗП': nan, 'Наименование должности': 'Python разработчик', 'Работадатель': 'Spice Agency', 'Сайт сбора позиции': 'hh.ru', 'Ссылка на позицию': 'https://hh.ru/vacancy/47977485?from=vacancy_search_list&query=Python', 'Ссылка на работодателя': 'https://hh.ru/employer/654435'}\n",
      "{'_id': ObjectId('617ff85e548ef7e46c078042'), 'Максимальная ЗП': 355000, 'Место работы': 'Москва', 'Минимальная ЗП': 213000, 'Наименование должности': 'Senior/Middle Backend разработчик (Python)', 'Работадатель': 'Кадровое агентство Алексея Сухорукова', 'Сайт сбора позиции': 'hh.ru', 'Ссылка на позицию': 'https://hh.ru/vacancy/49273944?from=vacancy_search_list&query=Python', 'Ссылка на работодателя': 'https://hh.ru/employer/48184'}\n",
      "{'_id': ObjectId('617ff85e548ef7e46c07804a'), 'Максимальная ЗП': 350000, 'Место работы': 'Москва', 'Минимальная ЗП': 250000, 'Наименование должности': 'Backend разработчик (Python Middle+/Senior)', 'Работадатель': 'ООО\\xa0Ок Софт', 'Сайт сбора позиции': 'hh.ru', 'Ссылка на позицию': 'https://hh.ru/vacancy/48793751?from=vacancy_search_list&query=Python', 'Ссылка на работодателя': 'https://hh.ru/employer/5692713'}\n",
      "{'_id': ObjectId('617ff85e548ef7e46c078058'), 'Максимальная ЗП': 426000, 'Место работы': 'Москва', 'Минимальная ЗП': 284000, 'Наименование должности': 'Senior Python Developer', 'Работадатель': 'Top Remote Talent', 'Сайт сбора позиции': 'hh.ru', 'Ссылка на позицию': 'https://hh.ru/vacancy/48847592?from=vacancy_search_list&query=Python', 'Ссылка на работодателя': 'https://hh.ru/employer/4955407'}\n",
      "{'_id': ObjectId('617ff85f548ef7e46c078060'), 'Максимальная ЗП': 300000, 'Место работы': 'Москва', 'Минимальная ЗП': 240000, 'Наименование должности': 'Старший разработчик Python', 'Работадатель': '1ceo', 'Сайт сбора позиции': 'superjob.ru', 'Ссылка на позицию': 'https://www.superjob.ru/vakansii/starshij-razrabotchik-python-39531755.html', 'Ссылка на работодателя': 'https://www.superjob.ru/clients/1ceo-3452756.html'}\n",
      "{'_id': ObjectId('617ff85f548ef7e46c078062'), 'Максимальная ЗП': 300000, 'Место работы': 'Москва, Большая Тульская улица, 43, Тульская\\xa0и ещё 9 станций', 'Минимальная ЗП': 180000, 'Наименование должности': 'Senior python developer / Teamlead (Odoo)', 'Работадатель': 'АЙКРАФТ', 'Сайт сбора позиции': 'superjob.ru', 'Ссылка на позицию': 'https://www.superjob.ru/vakansii/senior-python-developer-39529912.html', 'Ссылка на работодателя': 'https://www.superjob.ru/clients/ajkraft-142735.html'}\n",
      "{'_id': ObjectId('617ff85f548ef7e46c078064'), 'Максимальная ЗП': 250000, 'Место работы': 'Москва', 'Минимальная ЗП': 180000, 'Наименование должности': 'Разработчик Python + DS ML', 'Работадатель': 'Lion Recruitment', 'Сайт сбора позиции': 'superjob.ru', 'Ссылка на позицию': 'https://www.superjob.ru/vakansii/razrabotchik-python-39527128.html', 'Ссылка на работодателя': 'https://www.superjob.ru/clients/lion-recruitment-4146235.html'}\n",
      "{'_id': ObjectId('617ff85f548ef7e46c078068'), 'Максимальная ЗП': 350000, 'Место работы': 'Москва', 'Минимальная ЗП': 80000, 'Наименование должности': 'Python Developer', 'Работадатель': 'КонсалтПро', 'Сайт сбора позиции': 'superjob.ru', 'Ссылка на позицию': 'https://www.superjob.ru/vakansii/python-developer-39812948.html', 'Ссылка на работодателя': 'https://www.superjob.ru/clients/konsaltpro-2797123.html'}\n",
      "{'_id': ObjectId('617ff85f548ef7e46c078072'), 'Максимальная ЗП': 320000, 'Место работы': 'Москва', 'Минимальная ЗП': 260000, 'Наименование должности': 'Senior Python developer (Fullstack)', 'Работадатель': 'БиДжи', 'Сайт сбора позиции': 'superjob.ru', 'Ссылка на позицию': 'https://www.superjob.ru/vakansii/senior-python-developer-39485242.html', 'Ссылка на работодателя': 'https://www.superjob.ru/clients/bidzhi-4222233.html'}\n",
      "{'_id': ObjectId('617ff85f548ef7e46c078074'), 'Максимальная ЗП': 220000, 'Место работы': 'Москва', 'Минимальная ЗП': 260000, 'Наименование должности': 'Бэкенд-разработчик (Python, удаленная работа)', 'Работадатель': '\"Авиакомпания \"ЮТэйр\"', 'Сайт сбора позиции': 'superjob.ru', 'Ссылка на позицию': 'https://www.superjob.ru/vakansii/bekend-razrabotchik-39565873.html', 'Ссылка на работодателя': 'https://www.superjob.ru/clients/aviakompaniya-yutejr-239795.html'}\n",
      "{'_id': ObjectId('617ff85f548ef7e46c078078'), 'Максимальная ЗП': 270000, 'Место работы': 'Москва', 'Минимальная ЗП': 120000, 'Наименование должности': 'Программист Python', 'Работадатель': 'Фирма ВОДОКОМФОРТ', 'Сайт сбора позиции': 'superjob.ru', 'Ссылка на позицию': 'https://www.superjob.ru/vakansii/programmist-python-39366981.html', 'Ссылка на работодателя': 'https://www.superjob.ru/clients/firma-vodokomfort-37863.html'}\n",
      "{'_id': ObjectId('617ff85f548ef7e46c07807a'), 'Максимальная ЗП': 300000, 'Место работы': 'Москва, Мясницкая улица, 11', 'Минимальная ЗП': nan, 'Наименование должности': 'Senior Python Developer / Data Engineer', 'Работадатель': 'ГОУ Высшее профессиональное образование Государственный университет - Высшая школа экономики', 'Сайт сбора позиции': 'superjob.ru', 'Ссылка на позицию': 'https://www.superjob.ru/vakansii/senior-python-developer-39416755.html', 'Ссылка на работодателя': 'https://www.superjob.ru/clients/gou-vysshee-professionalnoe-obrazovanie-gosudarstvennyj-universitet---vysshaya-shkola-ekonomiki-59436.html'}\n",
      "{'_id': ObjectId('617ff85f548ef7e46c07807c'), 'Максимальная ЗП': 350000, 'Место работы': 'Москва, Кутузовская', 'Минимальная ЗП': nan, 'Наименование должности': 'Senior Python разработчик', 'Работадатель': 'КонсалтПро', 'Сайт сбора позиции': 'superjob.ru', 'Ссылка на позицию': 'https://www.superjob.ru/vakansii/senior-python-razrabotchik-39779427.html', 'Ссылка на работодателя': 'https://www.superjob.ru/clients/konsaltpro-2797123.html'}\n",
      "{'_id': ObjectId('617ff9f5548ef7e46c078190'), 'Ссылка на позицию': 'https://hh.ru/vacancy/47499212?from=vacancy_search_list&query=Python', 'Максимальная ЗП': 300000, 'Место работы': 'Москва', 'Минимальная ЗП': 200000, 'Наименование должности': 'Python-разработчик', 'Работадатель': 'Novakid Inc', 'Сайт сбора позиции': 'hh.ru', 'Ссылка на работодателя': 'https://hh.ru/employer/851716'}\n",
      "{'_id': ObjectId('617ff9f5548ef7e46c0781b1'), 'Ссылка на позицию': 'https://hh.ru/vacancy/40278614?from=vacancy_search_list&query=Python', 'Максимальная ЗП': 220000, 'Место работы': 'Москва', 'Минимальная ЗП': 150000, 'Наименование должности': 'Python разработчик (удаленно)', 'Работадатель': 'ООО\\xa0Строительный Двор', 'Сайт сбора позиции': 'hh.ru', 'Ссылка на работодателя': 'https://hh.ru/employer/665449'}\n",
      "{'_id': ObjectId('617ff9f5548ef7e46c0781b5'), 'Ссылка на позицию': 'https://hh.ru/vacancy/47176790?from=vacancy_search_list&query=Python', 'Максимальная ЗП': 250000, 'Место работы': 'Москва', 'Минимальная ЗП': 170000, 'Наименование должности': 'Backend разработчик (Python)', 'Работадатель': 'Tevian (ООО Технологии видеоанализа)', 'Сайт сбора позиции': 'hh.ru', 'Ссылка на работодателя': 'https://hh.ru/employer/4046921'}\n",
      "{'_id': ObjectId('617ffa07548ef7e46c0781be'), 'Ссылка на позицию': 'https://hh.ru/vacancy/48990045?from=vacancy_search_list&query=Python', 'Максимальная ЗП': 300000, 'Место работы': 'Москва', 'Минимальная ЗП': 200000, 'Наименование должности': 'Python Lead Developer', 'Работадатель': 'E-comet', 'Сайт сбора позиции': 'hh.ru', 'Ссылка на работодателя': 'https://hh.ru/employer/5557093'}\n",
      "{'_id': ObjectId('617ffa07548ef7e46c0781c5'), 'Ссылка на позицию': 'https://hh.ru/vacancy/49257601?from=vacancy_search_list&query=Python', 'Максимальная ЗП': 350000, 'Место работы': 'Москва', 'Минимальная ЗП': nan, 'Наименование должности': 'Data Scientist (RecSys)', 'Работадатель': 'Институт Искусственного Интеллекта', 'Сайт сбора позиции': 'hh.ru', 'Ссылка на работодателя': 'https://hh.ru/employer/5445348'}\n",
      "{'_id': ObjectId('617ffa07548ef7e46c0781ca'), 'Ссылка на позицию': 'https://hh.ru/vacancy/49139962?from=vacancy_search_list&query=Python', 'Максимальная ЗП': 270000, 'Место работы': 'Москва', 'Минимальная ЗП': nan, 'Наименование должности': 'Python (Django) Backend developer', 'Работадатель': 'evrone.ru', 'Сайт сбора позиции': 'hh.ru', 'Ссылка на работодателя': 'https://hh.ru/employer/598471'}\n",
      "{'_id': ObjectId('617ffa07548ef7e46c0781d4'), 'Ссылка на позицию': 'https://hh.ru/vacancy/48536626?from=vacancy_search_list&query=Python', 'Максимальная ЗП': 240000, 'Место работы': 'Москва', 'Минимальная ЗП': 180000, 'Наименование должности': 'Middle Python developer', 'Работадатель': 'Techno Diasoft', 'Сайт сбора позиции': 'hh.ru', 'Ссылка на работодателя': 'https://hh.ru/employer/859839'}\n",
      "{'_id': ObjectId('617ffa07548ef7e46c0781e4'), 'Ссылка на позицию': 'https://hh.ru/vacancy/49268616?from=vacancy_search_list&query=Python', 'Максимальная ЗП': 220000, 'Место работы': 'Москва', 'Минимальная ЗП': nan, 'Наименование должности': 'Python-разработчик (Middle) удаленно', 'Работадатель': 'Латера', 'Сайт сбора позиции': 'hh.ru', 'Ссылка на работодателя': 'https://hh.ru/employer/1050345'}\n",
      "{'_id': ObjectId('617ffa07548ef7e46c0781f3'), 'Ссылка на позицию': 'https://hh.ru/vacancy/48110806?from=vacancy_search_list&query=Python', 'Максимальная ЗП': 220000, 'Место работы': 'Москва', 'Минимальная ЗП': 130000, 'Наименование должности': 'Middle/Senior Python Developer', 'Работадатель': 'Scalable Solutions', 'Сайт сбора позиции': 'hh.ru', 'Ссылка на работодателя': 'https://hh.ru/employer/5078562'}\n",
      "{'_id': ObjectId('617ffa07548ef7e46c0781fd'), 'Ссылка на позицию': 'https://hh.ru/vacancy/48892719?from=vacancy_search_list&query=Python', 'Максимальная ЗП': 400000, 'Место работы': 'Москва', 'Минимальная ЗП': 100000, 'Наименование должности': 'Python Developer Backend (middle/senior)', 'Работадатель': 'Ритм', 'Сайт сбора позиции': 'hh.ru', 'Ссылка на работодателя': 'https://hh.ru/employer/4576177'}\n",
      "{'_id': ObjectId('617ffa07548ef7e46c0781ff'), 'Ссылка на позицию': 'https://hh.ru/vacancy/49130051?from=vacancy_search_list&query=Python', 'Максимальная ЗП': 246000, 'Место работы': 'Москва', 'Минимальная ЗП': nan, 'Наименование должности': 'Senior Python Developer', 'Работадатель': 'ООО\\xa0Globus.ai', 'Сайт сбора позиции': 'hh.ru', 'Ссылка на работодателя': 'https://hh.ru/employer/3194188'}\n",
      "{'_id': ObjectId('617ffa18548ef7e46c078224'), 'Ссылка на позицию': 'https://hh.ru/vacancy/49221413?from=vacancy_search_list&query=Python', 'Максимальная ЗП': 220000, 'Место работы': 'Москва', 'Минимальная ЗП': nan, 'Наименование должности': 'Разработчик-Python (Django 2.2, DRF)', 'Работадатель': 'ООО\\xa0Фабрика Решений', 'Сайт сбора позиции': 'hh.ru', 'Ссылка на работодателя': 'https://hh.ru/employer/4596113'}\n",
      "{'_id': ObjectId('617ffa18548ef7e46c07822a'), 'Ссылка на позицию': 'https://hh.ru/vacancy/49228210?from=vacancy_search_list&query=Python', 'Максимальная ЗП': 340000, 'Место работы': 'Москва', 'Минимальная ЗП': 200000, 'Наименование должности': 'Python developer', 'Работадатель': 'ProfiStaff', 'Сайт сбора позиции': 'hh.ru', 'Ссылка на работодателя': 'https://hh.ru/employer/25022'}\n",
      "{'_id': ObjectId('617ffa18548ef7e46c078242'), 'Ссылка на позицию': 'https://hh.ru/vacancy/45795563?from=vacancy_search_list&query=Python', 'Максимальная ЗП': 213000, 'Место работы': 'Москва', 'Минимальная ЗП': 56000, 'Наименование должности': 'Web-разработчик (React, Python)', 'Работадатель': 'BeeJee', 'Сайт сбора позиции': 'hh.ru', 'Ссылка на работодателя': 'https://hh.ru/employer/2092867'}\n",
      "{'_id': ObjectId('617ffa1c548ef7e46c078290'), 'Ссылка на позицию': 'https://www.superjob.ru/vakansii/data-engineer-39698739.html', 'Максимальная ЗП': 400000, 'Место работы': 'Москва', 'Минимальная ЗП': 65000, 'Наименование должности': 'Data engineer', 'Работадатель': 'Эссистэнс Сервисес', 'Сайт сбора позиции': 'superjob.ru', 'Ссылка на работодателя': 'https://www.superjob.ru/clients/essistens-servises-3962391.html'}\n",
      "{'_id': ObjectId('617ffa1c548ef7e46c0782a4'), 'Ссылка на позицию': 'https://www.superjob.ru/vakansii/sistemnyj-analitik-sum-39527250.html', 'Максимальная ЗП': 300000, 'Место работы': 'Москва', 'Минимальная ЗП': 130000, 'Наименование должности': 'Системный аналитик СУМ', 'Работадатель': 'Lion Recruitment', 'Сайт сбора позиции': 'superjob.ru', 'Ссылка на работодателя': 'https://www.superjob.ru/clients/lion-recruitment-4146235.html'}\n",
      "{'_id': ObjectId('617ffb31548ef7e46c0782e6'), 'Ссылка на позицию': 'https://hh.ru/vacancy/49194069?from=vacancy_search_list&query=python', 'Максимальная ЗП': nan, 'Место работы': 'Москва', 'Минимальная ЗП': 248000, 'Наименование должности': 'Middle/Senior Python developer', 'Работадатель': 'Unikoom', 'Сайт сбора позиции': 'hh.ru', 'Ссылка на работодателя': 'https://hh.ru/employer/5144162'}\n",
      "{'_id': ObjectId('617ffb31548ef7e46c0782e8'), 'Ссылка на позицию': 'https://hh.ru/vacancy/47682360?from=vacancy_search_list&query=python', 'Максимальная ЗП': 380000, 'Место работы': 'Москва', 'Минимальная ЗП': nan, 'Наименование должности': 'Python разработчик', 'Работадатель': 'Точка', 'Сайт сбора позиции': 'hh.ru', 'Ссылка на работодателя': 'https://hh.ru/employer/2324020'}\n",
      "{'_id': ObjectId('617ffb31548ef7e46c0782f4'), 'Ссылка на позицию': 'https://hh.ru/vacancy/48855094?from=vacancy_search_list&query=python', 'Максимальная ЗП': 520000, 'Место работы': 'Москва', 'Минимальная ЗП': 330000, 'Наименование должности': 'Senior Back-end Engineer (Python)', 'Работадатель': 'Corrily', 'Сайт сбора позиции': 'hh.ru', 'Ссылка на работодателя': 'https://hh.ru/employer/5787201'}\n",
      "{'_id': ObjectId('617ffb31548ef7e46c0782f6'), 'Ссылка на позицию': 'https://hh.ru/vacancy/37486302?from=vacancy_search_list&query=python', 'Максимальная ЗП': 320000, 'Место работы': 'Москва, Баррикадная и еще 1 ', 'Минимальная ЗП': 150000, 'Наименование должности': 'Python разработчик', 'Работадатель': 'АО\\xa0Семейный доктор', 'Сайт сбора позиции': 'hh.ru', 'Ссылка на работодателя': 'https://hh.ru/employer/142683'}\n",
      "{'_id': ObjectId('617ffb31548ef7e46c0782fe'), 'Ссылка на позицию': 'https://hh.ru/vacancy/48663627?from=vacancy_search_list&query=python', 'Максимальная ЗП': 450000, 'Место работы': 'Москва', 'Минимальная ЗП': 250000, 'Наименование должности': 'Python Backend Developer Blockchain', 'Работадатель': 'ИП\\xa0Валовой Сергей Александрович', 'Сайт сбора позиции': 'hh.ru', 'Ссылка на работодателя': 'https://hh.ru/employer/5420312'}\n",
      "{'_id': ObjectId('617ffb31548ef7e46c078300'), 'Ссылка на позицию': 'https://hh.ru/vacancy/49252631?from=vacancy_search_list&query=python', 'Максимальная ЗП': 300000, 'Место работы': 'Москва, Белорусская', 'Минимальная ЗП': 150000, 'Наименование должности': 'Python developer / Data engineer (Middle)', 'Работадатель': 'Wunder Fund', 'Сайт сбора позиции': 'hh.ru', 'Ссылка на работодателя': 'https://hh.ru/employer/4558995'}\n",
      "{'_id': ObjectId('617ffb31548ef7e46c078302'), 'Ссылка на позицию': 'https://hh.ru/vacancy/48638057?from=vacancy_search_list&query=python', 'Максимальная ЗП': 220000, 'Место работы': 'Москва', 'Минимальная ЗП': 150000, 'Наименование должности': 'Бэкенд-разработчик Python/Middle Python/ Python Developer (Remote)', 'Работадатель': 'ЮТэйр, Авиакомпания', 'Сайт сбора позиции': 'hh.ru', 'Ссылка на работодателя': 'https://hh.ru/employer/17713'}\n",
      "{'_id': ObjectId('617ffb31548ef7e46c078304'), 'Ссылка на позицию': 'https://hh.ru/vacancy/48457284?from=vacancy_search_list&query=python', 'Максимальная ЗП': nan, 'Место работы': 'Москва', 'Минимальная ЗП': 300000, 'Наименование должности': 'Разработчик Rust/Разработчик Go/Разрабочтик python(удаленно)', 'Работадатель': 'ArtVolkov.ru', 'Сайт сбора позиции': 'hh.ru', 'Ссылка на работодателя': 'https://hh.ru/employer/578702'}\n",
      "{'_id': ObjectId('617ffb31548ef7e46c078306'), 'Ссылка на позицию': 'https://hh.ru/vacancy/49257549?from=vacancy_search_list&query=python', 'Максимальная ЗП': 230000, 'Место работы': 'Москва', 'Минимальная ЗП': 150000, 'Наименование должности': 'Data Scientist', 'Работадатель': 'RIPE Capital', 'Сайт сбора позиции': 'hh.ru', 'Ссылка на работодателя': 'https://hh.ru/employer/5823992'}\n",
      "{'_id': ObjectId('617ffb31548ef7e46c078308'), 'Ссылка на позицию': 'https://hh.ru/vacancy/49210221?from=vacancy_search_list&query=python', 'Максимальная ЗП': 300000, 'Место работы': 'Москва', 'Минимальная ЗП': nan, 'Наименование должности': 'Python - разработчик', 'Работадатель': 'Цифратэкс', 'Сайт сбора позиции': 'hh.ru', 'Ссылка на работодателя': 'https://hh.ru/employer/5736937'}\n",
      "{'_id': ObjectId('617ffb31548ef7e46c07830a'), 'Ссылка на позицию': 'https://hh.ru/vacancy/49121141?from=vacancy_search_list&query=python', 'Максимальная ЗП': nan, 'Место работы': 'Москва, Менделеевская', 'Минимальная ЗП': 250000, 'Наименование должности': 'Middle Python-разработчик', 'Работадатель': 'FINPAY', 'Сайт сбора позиции': 'hh.ru', 'Ссылка на работодателя': 'https://hh.ru/employer/5211392'}\n",
      "{'_id': ObjectId('617ffb31548ef7e46c07830c'), 'Ссылка на позицию': 'https://hh.ru/vacancy/47322083?from=vacancy_search_list&query=python', 'Максимальная ЗП': 400000, 'Место работы': 'Москва', 'Минимальная ЗП': nan, 'Наименование должности': 'Python developer', 'Работадатель': 'Spice Agency', 'Сайт сбора позиции': 'hh.ru', 'Ссылка на работодателя': 'https://hh.ru/employer/654435'}\n",
      "{'_id': ObjectId('617ffb31548ef7e46c078312'), 'Ссылка на позицию': 'https://hh.ru/vacancy/48449017?from=vacancy_search_list&query=python', 'Максимальная ЗП': 350000, 'Место работы': 'Москва, Курская и еще 2 ', 'Минимальная ЗП': 300000, 'Наименование должности': 'Senior Backend Developer (Python)', 'Работадатель': 'TIMELESS (ООО Оксбридж)', 'Сайт сбора позиции': 'hh.ru', 'Ссылка на работодателя': 'https://hh.ru/employer/4421267'}\n",
      "{'_id': ObjectId('617ffb31548ef7e46c078314'), 'Ссылка на позицию': 'https://hh.ru/vacancy/48960196?from=vacancy_search_list&query=python', 'Максимальная ЗП': 300000, 'Место работы': 'Москва', 'Минимальная ЗП': 150000, 'Наименование должности': 'Backend разработчик (Python)', 'Работадатель': 'izi', 'Сайт сбора позиции': 'hh.ru', 'Ссылка на работодателя': 'https://hh.ru/employer/5800791'}\n",
      "{'_id': ObjectId('617ffb31548ef7e46c078318'), 'Ссылка на позицию': 'https://hh.ru/vacancy/49121112?from=vacancy_search_list&query=python', 'Максимальная ЗП': nan, 'Место работы': 'Москва, Менделеевская', 'Минимальная ЗП': 300000, 'Наименование должности': 'Senior Python-разработчик', 'Работадатель': 'FINPAY', 'Сайт сбора позиции': 'hh.ru', 'Ссылка на работодателя': 'https://hh.ru/employer/5211392'}\n",
      "{'_id': ObjectId('617ffb31548ef7e46c07831a'), 'Ссылка на позицию': 'https://hh.ru/vacancy/48641636?from=vacancy_search_list&query=python', 'Максимальная ЗП': 250000, 'Место работы': 'Москва', 'Минимальная ЗП': 180000, 'Наименование должности': 'Middle Python/Flask developer', 'Работадатель': 'ООО\\xa0Эксперум', 'Сайт сбора позиции': 'hh.ru', 'Ссылка на работодателя': 'https://hh.ru/employer/3912653'}\n",
      "{'_id': ObjectId('617ffb31548ef7e46c078322'), 'Ссылка на позицию': 'https://hh.ru/vacancy/48434078?from=vacancy_search_list&query=python', 'Максимальная ЗП': 250000, 'Место работы': 'Москва', 'Минимальная ЗП': 180000, 'Наименование должности': 'Data Scientist', 'Работадатель': 'CORE', 'Сайт сбора позиции': 'hh.ru', 'Ссылка на работодателя': 'https://hh.ru/employer/1664868'}\n",
      "{'_id': ObjectId('617ffb31548ef7e46c078324'), 'Ссылка на позицию': 'https://hh.ru/vacancy/48493368?from=vacancy_search_list&query=python', 'Максимальная ЗП': 400000, 'Место работы': 'Москва', 'Минимальная ЗП': 350000, 'Наименование должности': 'Python Team Lead (python3.8. + django)', 'Работадатель': 'TopsWeTeam', 'Сайт сбора позиции': 'hh.ru', 'Ссылка на работодателя': 'https://hh.ru/employer/5753850'}\n",
      "{'_id': ObjectId('617ffb31548ef7e46c078328'), 'Ссылка на позицию': 'https://hh.ru/vacancy/49244803?from=vacancy_search_list&query=python', 'Максимальная ЗП': 250000, 'Место работы': 'Москва', 'Минимальная ЗП': 180000, 'Наименование должности': 'Middle Data Engineer', 'Работадатель': 'Educate Online Inc', 'Сайт сбора позиции': 'hh.ru', 'Ссылка на работодателя': 'https://hh.ru/employer/4068399'}\n",
      "{'_id': ObjectId('617ffb31548ef7e46c07832a'), 'Ссылка на позицию': 'https://hh.ru/vacancy/47987566?from=vacancy_search_list&query=python', 'Максимальная ЗП': 369000, 'Место работы': 'Москва', 'Минимальная ЗП': 164000, 'Наименование должности': 'Senior Python-разработчик', 'Работадатель': 'IBIT', 'Сайт сбора позиции': 'hh.ru', 'Ссылка на работодателя': 'https://hh.ru/employer/1818108'}\n",
      "{'_id': ObjectId('617ffb31548ef7e46c07832c'), 'Ссылка на позицию': 'https://hh.ru/vacancy/43242292?from=vacancy_search_list&query=python', 'Максимальная ЗП': 220000, 'Место работы': 'Москва, Сухаревская', 'Минимальная ЗП': 170000, 'Наименование должности': 'Разработчик-Python (Django, DRF)', 'Работадатель': 'ООО\\xa0Фабрика Решений', 'Сайт сбора позиции': 'hh.ru', 'Ссылка на работодателя': 'https://hh.ru/employer/4596113'}\n",
      "{'_id': ObjectId('617ffb31548ef7e46c07832e'), 'Ссылка на позицию': 'https://hh.ru/vacancy/47213315?from=vacancy_search_list&query=python', 'Максимальная ЗП': 320000, 'Место работы': 'Москва', 'Минимальная ЗП': 230000, 'Наименование должности': 'Senior Python Engineer (Remote)', 'Работадатель': 'Spark Equation', 'Сайт сбора позиции': 'hh.ru', 'Ссылка на работодателя': 'https://hh.ru/employer/1787419'}\n",
      "{'_id': ObjectId('617ffb31548ef7e46c078330'), 'Ссылка на позицию': 'https://hh.ru/vacancy/49226749?from=vacancy_search_list&query=python', 'Максимальная ЗП': nan, 'Место работы': 'Москва', 'Минимальная ЗП': 230000, 'Наименование должности': 'Python разработчик', 'Работадатель': 'Ассоциация IPChain', 'Сайт сбора позиции': 'hh.ru', 'Ссылка на работодателя': 'https://hh.ru/employer/3151408'}\n",
      "{'_id': ObjectId('617ffb31548ef7e46c07833a'), 'Ссылка на позицию': 'https://hh.ru/vacancy/49293533?from=vacancy_search_list&query=python', 'Максимальная ЗП': 300000, 'Место работы': 'Москва', 'Минимальная ЗП': nan, 'Наименование должности': 'Python developer', 'Работадатель': 'Wanted', 'Сайт сбора позиции': 'hh.ru', 'Ссылка на работодателя': 'https://hh.ru/employer/5174849'}\n",
      "{'_id': ObjectId('617ffb31548ef7e46c07833c'), 'Ссылка на позицию': 'https://hh.ru/vacancy/48618742?from=vacancy_search_list&query=python', 'Максимальная ЗП': 300000, 'Место работы': 'Москва', 'Минимальная ЗП': 250000, 'Наименование должности': 'Senior Python developer (python3.8. + django)', 'Работадатель': 'TopsWeTeam', 'Сайт сбора позиции': 'hh.ru', 'Ссылка на работодателя': 'https://hh.ru/employer/5753850'}\n",
      "{'_id': ObjectId('617ffb31548ef7e46c07833e'), 'Ссылка на позицию': 'https://hh.ru/vacancy/48875298?from=vacancy_search_list&query=python', 'Максимальная ЗП': nan, 'Место работы': 'Москва', 'Минимальная ЗП': 213000, 'Наименование должности': 'Python developer (проект)', 'Работадатель': 'ООО\\xa0Грин Грей Софтворкс', 'Сайт сбора позиции': 'hh.ru', 'Ссылка на работодателя': 'https://hh.ru/employer/5008916'}\n",
      "{'_id': ObjectId('617ffb31548ef7e46c078340'), 'Ссылка на позицию': 'https://hh.ru/vacancy/48710861?from=vacancy_search_list&query=python', 'Максимальная ЗП': 220000, 'Место работы': 'Москва', 'Минимальная ЗП': nan, 'Наименование должности': 'Python-developer', 'Работадатель': 'Carely', 'Сайт сбора позиции': 'hh.ru', 'Ссылка на работодателя': 'https://hh.ru/employer/2464267'}\n",
      "{'_id': ObjectId('617ffb31548ef7e46c078342'), 'Ссылка на позицию': 'https://hh.ru/vacancy/48701378?from=vacancy_search_list&query=python', 'Максимальная ЗП': 250000, 'Место работы': 'Москва, Маяковская и еще 1 ', 'Минимальная ЗП': 110000, 'Наименование должности': 'Python Django developer', 'Работадатель': 'ООО\\xa0БОЛЬШАЯ ТРОЙКА', 'Сайт сбора позиции': 'hh.ru', 'Ссылка на работодателя': 'https://hh.ru/employer/2464195'}\n",
      "{'_id': ObjectId('617ffb31548ef7e46c078346'), 'Ссылка на позицию': 'https://hh.ru/vacancy/41541061?from=vacancy_search_list&query=python', 'Максимальная ЗП': 270000, 'Место работы': 'Москва, Выставочная', 'Минимальная ЗП': 220000, 'Наименование должности': 'Python разработчик Senior', 'Работадатель': 'ООО\\xa0Строительный Двор', 'Сайт сбора позиции': 'hh.ru', 'Ссылка на работодателя': 'https://hh.ru/employer/665449'}\n"
     ]
    }
   ],
   "source": [
    "for i in collection.find({ \"$or\" : [{'Минимальная ЗП':{\"$gt\": my_salary}}, {'Максимальная ЗП':{\"$gt\": my_salary}}]}):\n",
    "    print(i)"
   ]
  },
  {
   "cell_type": "code",
   "execution_count": null,
   "id": "527724e2",
   "metadata": {},
   "outputs": [],
   "source": []
  }
 ],
 "metadata": {
  "kernelspec": {
   "display_name": "Python 3",
   "language": "python",
   "name": "python3"
  },
  "language_info": {
   "codemirror_mode": {
    "name": "ipython",
    "version": 3
   },
   "file_extension": ".py",
   "mimetype": "text/x-python",
   "name": "python",
   "nbconvert_exporter": "python",
   "pygments_lexer": "ipython3",
   "version": "3.8.8"
  }
 },
 "nbformat": 4,
 "nbformat_minor": 5
}

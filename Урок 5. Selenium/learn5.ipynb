{
 "cells": [
  {
   "cell_type": "markdown",
   "id": "8c8b6430",
   "metadata": {},
   "source": [
    "###  Написать программу, которая собирает товары «В тренде» с сайта техники mvideo и складывает данные в БД. Сайт можно выбрать и свой. Главный критерий выбора: динамически загружаемые товары"
   ]
  },
  {
   "cell_type": "code",
   "execution_count": 33,
   "id": "1875e094",
   "metadata": {},
   "outputs": [],
   "source": [
    "from selenium import webdriver\n",
    "from selenium.webdriver.common.by import By\n",
    "from selenium.webdriver.common.keys import Keys\n",
    "from selenium.webdriver.chrome.options import Options\n",
    "from selenium.webdriver.common.action_chains import ActionChains\n",
    "from selenium.webdriver.support.ui import WebDriverWait\n",
    "from selenium.webdriver.support import expected_conditions as EC"
   ]
  },
  {
   "cell_type": "code",
   "execution_count": 34,
   "id": "e7c1f280",
   "metadata": {},
   "outputs": [
    {
     "name": "stderr",
     "output_type": "stream",
     "text": [
      "<ipython-input-34-736ff86449ff>:3: DeprecationWarning: executable_path has been deprecated, please pass in a Service object\n",
      "  driver = webdriver.Chrome(executable_path='../chromedriver.exe', options=chrome_options)\n"
     ]
    }
   ],
   "source": [
    "chrome_options = Options()\n",
    "chrome_options.add_argument(\"--start-maximized\")\n",
    "driver = webdriver.Chrome(executable_path='../chromedriver.exe', options=chrome_options)\n",
    "driver.implicitly_wait(10)\n",
    "driver.get('https://www.mvideo.ru/')"
   ]
  },
  {
   "cell_type": "code",
   "execution_count": 35,
   "id": "3f8253dd",
   "metadata": {},
   "outputs": [],
   "source": [
    "while True:\n",
    "    try:\n",
    "        element = WebDriverWait(driver, 1).until(\n",
    "            EC.presence_of_element_located((By.XPATH, \"//span[contains(text(),'В тренде')]\"))\n",
    "        )\n",
    "        element.click()\n",
    "        break\n",
    "    except:\n",
    "        actions = ActionChains(driver)\n",
    "        actions.key_down(Keys.PAGE_DOWN).key_up(Keys.PAGE_DOWN)\n",
    "        actions.perform()\n"
   ]
  },
  {
   "cell_type": "code",
   "execution_count": null,
   "id": "ed8b70a2",
   "metadata": {},
   "outputs": [],
   "source": []
  }
 ],
 "metadata": {
  "kernelspec": {
   "display_name": "Python 3",
   "language": "python",
   "name": "python3"
  },
  "language_info": {
   "codemirror_mode": {
    "name": "ipython",
    "version": 3
   },
   "file_extension": ".py",
   "mimetype": "text/x-python",
   "name": "python",
   "nbconvert_exporter": "python",
   "pygments_lexer": "ipython3",
   "version": "3.8.8"
  }
 },
 "nbformat": 4,
 "nbformat_minor": 5
}

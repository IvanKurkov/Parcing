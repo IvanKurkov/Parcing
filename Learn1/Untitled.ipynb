{
 "cells": [
  {
   "cell_type": "markdown",
   "id": "8cf06210",
   "metadata": {},
   "source": [
    "### Посмотреть документацию к API GitHub, разобраться как вывести список репозиториев для конкретного пользователя, сохранить JSON-вывод в файле *.json.\n"
   ]
  },
  {
   "cell_type": "code",
   "execution_count": 5,
   "id": "c801b306",
   "metadata": {},
   "outputs": [],
   "source": [
    "import requests\n",
    "import json"
   ]
  },
  {
   "cell_type": "code",
   "execution_count": 6,
   "id": "a3a2faa6",
   "metadata": {},
   "outputs": [],
   "source": [
    "req = requests.get(\"https://api.github.com/users/IvanKurkov/repos\")"
   ]
  },
  {
   "cell_type": "code",
   "execution_count": 7,
   "id": "e10aa9f8",
   "metadata": {},
   "outputs": [],
   "source": [
    "data = json.loads(req.text)"
   ]
  },
  {
   "cell_type": "code",
   "execution_count": 17,
   "id": "ebaa3b74",
   "metadata": {},
   "outputs": [
    {
     "name": "stdout",
     "output_type": "stream",
     "text": [
      "1) DS_Libs\n",
      "2) DS_train\n",
      "3) Geekbrains-Python1\n",
      "4) Maths\n",
      "5) Parcing\n",
      "6) PythonAlgorithms\n",
      "7) Python_Training\n",
      "8) SQL\n"
     ]
    }
   ],
   "source": [
    "for n, i in enumerate(data):\n",
    "    print(f\"{n+1}) {i['name']}\")"
   ]
  },
  {
   "cell_type": "code",
   "execution_count": 18,
   "id": "f2b82013",
   "metadata": {},
   "outputs": [],
   "source": [
    "with open(\"task_1.json\", \"w\") as write_file:\n",
    "    json.dump(data, write_file)"
   ]
  },
  {
   "cell_type": "markdown",
   "id": "a0f60590",
   "metadata": {},
   "source": [
    "### Изучить список открытых API. Найти среди них любое, требующее авторизацию (любого типа). Выполнить запросы к нему, пройдя авторизацию. Ответ сервера записать в файл."
   ]
  },
  {
   "cell_type": "code",
   "execution_count": 32,
   "id": "12ed71ca",
   "metadata": {},
   "outputs": [],
   "source": [
    "req2 = requests.get(\"https://api.mapbox.com/styles/v1/examples/cjikt35x83t1z2rnxpdmjs7y7?access_token=pk.eyJ1IjoiaXZhbi1rdXJrb3YiLCJhIjoiY2t2MTBhYXBoMGJwZDJ2cDdsdGk3bTI2cCJ9.Km67-aGnTExhLZooQ0jnNA\")"
   ]
  },
  {
   "cell_type": "code",
   "execution_count": 39,
   "id": "572d133e",
   "metadata": {},
   "outputs": [],
   "source": [
    "with open(\"task_2.json\", \"w\") as write_file:\n",
    "    json.dump(data2, write_file)"
   ]
  },
  {
   "cell_type": "markdown",
   "id": "740017d3",
   "metadata": {},
   "source": [
    "https://docs.mapbox.com/api/maps/styles/"
   ]
  },
  {
   "cell_type": "code",
   "execution_count": null,
   "id": "14773ae4",
   "metadata": {},
   "outputs": [],
   "source": []
  }
 ],
 "metadata": {
  "kernelspec": {
   "display_name": "Python 3",
   "language": "python",
   "name": "python3"
  },
  "language_info": {
   "codemirror_mode": {
    "name": "ipython",
    "version": 3
   },
   "file_extension": ".py",
   "mimetype": "text/x-python",
   "name": "python",
   "nbconvert_exporter": "python",
   "pygments_lexer": "ipython3",
   "version": "3.8.8"
  }
 },
 "nbformat": 4,
 "nbformat_minor": 5
}

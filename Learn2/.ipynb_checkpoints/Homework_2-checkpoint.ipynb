{
 "cells": [
  {
   "cell_type": "code",
   "execution_count": 1,
   "id": "b7499b96",
   "metadata": {},
   "outputs": [],
   "source": [
    "from bs4 import BeautifulSoup as bs\n",
    "import requests"
   ]
  },
  {
   "cell_type": "code",
   "execution_count": 18,
   "id": "d972830e",
   "metadata": {},
   "outputs": [],
   "source": [
    "resphh = requests.get('https://www.superjob.ru/vacancy/search/?keywords=Python&geo%5Bt%5D%5B0%5D=4').text"
   ]
  },
  {
   "cell_type": "code",
   "execution_count": 20,
   "id": "5159491b",
   "metadata": {},
   "outputs": [],
   "source": [
    "soup = bs(resphh, 'html.parser')"
   ]
  },
  {
   "cell_type": "code",
   "execution_count": 27,
   "id": "58936b0d",
   "metadata": {},
   "outputs": [
    {
     "data": {
      "text/plain": [
       "[<span class=\"_2Wp8I _1U0tH _2aBG1 _1DqPd\">240 000<span> <!-- -->—<!-- --> </span>300 000<!-- --> <!-- -->руб.</span>,\n",
       " <span class=\"_2Wp8I _1U0tH _2aBG1 _1DqPd\">от<!-- --> <!-- -->120 000 руб.</span>,\n",
       " <span class=\"_2Wp8I _1U0tH _2aBG1 _1DqPd\">до<!-- --> <!-- -->200 000 руб.</span>,\n",
       " <span class=\"_2Wp8I _1U0tH _2aBG1 _1DqPd\">По договорённости</span>,\n",
       " <span class=\"_2Wp8I _1U0tH _2aBG1 _1DqPd\">140 000<span> <!-- -->—<!-- --> </span>170 000<!-- --> <!-- -->руб.</span>,\n",
       " <span class=\"_2Wp8I _1U0tH _2aBG1 _1DqPd\">185 000<!-- --> <!-- -->руб.</span>,\n",
       " <span class=\"_2Wp8I _1U0tH _2aBG1 _1DqPd\">от<!-- --> <!-- -->180 000 руб.</span>,\n",
       " <span class=\"_2Wp8I _1U0tH _2aBG1 _1DqPd\">до<!-- --> <!-- -->250 000 руб.</span>,\n",
       " <span class=\"_2Wp8I _1U0tH _2aBG1 _1DqPd\">По договорённости</span>,\n",
       " <span class=\"_2Wp8I _1U0tH _2aBG1 _1DqPd\">до<!-- --> <!-- -->150 000 руб.</span>,\n",
       " <span class=\"_2Wp8I _1U0tH _2aBG1 _1DqPd\">120 000<span> <!-- -->—<!-- --> </span>140 000<!-- --> <!-- -->руб.</span>,\n",
       " <span class=\"_2Wp8I _1U0tH _2aBG1 _1DqPd\">По договорённости</span>,\n",
       " <span class=\"_2Wp8I _1U0tH _2aBG1 _1DqPd\">260 000<span> <!-- -->—<!-- --> </span>320 000<!-- --> <!-- -->руб.</span>,\n",
       " <span class=\"_2Wp8I _1U0tH _2aBG1 _1DqPd\">до<!-- --> <!-- -->220 000 руб.</span>,\n",
       " <span class=\"_2Wp8I _1U0tH _2aBG1 _1DqPd\">до<!-- --> <!-- -->180 000 руб.</span>,\n",
       " <span class=\"_2Wp8I _1U0tH _2aBG1 _1DqPd\">По договорённости</span>,\n",
       " <span class=\"_2Wp8I _1U0tH _2aBG1 _1DqPd\">240 000<span> <!-- -->—<!-- --> </span>300 000<!-- --> <!-- -->руб.</span>,\n",
       " <span class=\"_2Wp8I _1U0tH _2aBG1 _1DqPd\">до<!-- --> <!-- -->300 000 руб.</span>,\n",
       " <span class=\"_2Wp8I _1U0tH _2aBG1 _1DqPd\">140 000<span> <!-- -->—<!-- --> </span>150 000<!-- --> <!-- -->руб.</span>,\n",
       " <span class=\"_2Wp8I _1U0tH _2aBG1 _1DqPd\">от<!-- --> <!-- -->15 000 руб.</span>]"
      ]
     },
     "execution_count": 27,
     "metadata": {},
     "output_type": "execute_result"
    }
   ],
   "source": [
    "soup.find_all(name='span', attrs={\"class\" : \"_2Wp8I _1U0tH _2aBG1 _1DqPd\"} )"
   ]
  },
  {
   "cell_type": "code",
   "execution_count": null,
   "id": "47bb5af4",
   "metadata": {},
   "outputs": [],
   "source": []
  }
 ],
 "metadata": {
  "kernelspec": {
   "display_name": "Python 3",
   "language": "python",
   "name": "python3"
  },
  "language_info": {
   "codemirror_mode": {
    "name": "ipython",
    "version": 3
   },
   "file_extension": ".py",
   "mimetype": "text/x-python",
   "name": "python",
   "nbconvert_exporter": "python",
   "pygments_lexer": "ipython3",
   "version": "3.8.8"
  }
 },
 "nbformat": 4,
 "nbformat_minor": 5
}

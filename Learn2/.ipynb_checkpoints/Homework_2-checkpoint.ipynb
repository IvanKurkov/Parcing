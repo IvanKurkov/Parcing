{
 "cells": [
  {
   "cell_type": "code",
   "execution_count": 98,
   "id": "b7499b96",
   "metadata": {},
   "outputs": [],
   "source": [
    "from bs4 import BeautifulSoup as bs\n",
    "import requests\n",
    "import numpy as np\n",
    "import re\n",
    "import pandas as pd\n",
    "import json"
   ]
  },
  {
   "cell_type": "code",
   "execution_count": 99,
   "id": "5e16d2a1",
   "metadata": {},
   "outputs": [],
   "source": [
    "#Идея привести все ЗП к одному виду мне понравилась, попробовал тоже реализовать это.\n",
    "cur_req = requests.get(\"https://www.cbr-xml-daily.ru/daily_json.js\")    \n",
    "cur = json.loads(cur_req.text)    "
   ]
  },
  {
   "cell_type": "code",
   "execution_count": 117,
   "id": "adf5f002",
   "metadata": {},
   "outputs": [],
   "source": [
    "job_info = []\n",
    "n = 0\n",
    "max_list = 30\n",
    "for x in range(max_list):\n",
    "    resphh = requests.get(f'https://hh.ru/search/vacancy?area=1&fromSearchLine=true&text=Python&from=suggest_post&page={x}', headers = {'User-agent':'Mozilla/5.0'}).text\n",
    "    soup = bs(resphh, 'html.parser')\n",
    "    cards = soup.find_all(name='div', attrs={\"class\" : \"vacancy-serp-item\"} )\n",
    "    for i in cards:\n",
    "        name_job = i.find('a', attrs = {'data-qa': \"vacancy-serp__vacancy-title\"}).text\n",
    "        \n",
    "        link_job = i.find('a', attrs = {'data-qa': \"vacancy-serp__vacancy-title\"}).get('href')\n",
    "        \n",
    "        cost = i.find('span', attrs = {'data-qa' : \"vacancy-serp__vacancy-compensation\"})\n",
    "        min_cost = np.nan\n",
    "        max_cost = np.nan\n",
    "        if cost:\n",
    "            cost = cost.text \n",
    "            cost = cost.replace(\"\\u202f\", \"\").replace(\" \", \"\")\n",
    "            if re.findall('^от[0-9]+', cost):\n",
    "                min_cost = int(re.findall('[0-9]+', cost)[0])\n",
    "            elif re.findall('^до[0-9]+', cost):\n",
    "                max_cost = int(re.findall('[0-9]+', cost)[0])\n",
    "            else:\n",
    "                min_cost = int(re.findall('[0-9]+', cost)[0])\n",
    "                max_cost = int(re.findall('[0-9]+', cost)[1])\n",
    "            if not re.findall('руб.', cost):\n",
    "                currency = re.findall('[A-Z]{2,5}', cost)[0]\n",
    "                if not np.isnan(min_cost):\n",
    "                    min_cost = int(min_cost*cur[\"Valute\"][currency][\"Value\"])//1000*1000\n",
    "                if not np.isnan(max_cost):\n",
    "                    max_cost = int(max_cost*cur[\"Valute\"][currency][\"Value\"])//1000*1000\n",
    "        \n",
    "        job_from = \"hh.ru\"\n",
    "        job_info.append([])\n",
    "        job_info[n].append(name_job)\n",
    "        job_info[n].append(link_job)\n",
    "        job_info[n].append(min_cost)\n",
    "        job_info[n].append(max_cost)\n",
    "        job_info[n].append(job_from)\n",
    "        \n",
    "        n+=1    \n",
    "\n"
   ]
  },
  {
   "cell_type": "code",
   "execution_count": 118,
   "id": "74736f77",
   "metadata": {},
   "outputs": [],
   "source": [
    "columns = [\"Name job\", \"Link\", \"Min_salary\", \"Max_salary\", \"Where\"]"
   ]
  },
  {
   "cell_type": "code",
   "execution_count": 119,
   "id": "bf4bb9d7",
   "metadata": {},
   "outputs": [],
   "source": [
    "df = pd.DataFrame(job_info, columns=columns)"
   ]
  },
  {
   "cell_type": "code",
   "execution_count": 120,
   "id": "2dee9f04",
   "metadata": {},
   "outputs": [
    {
     "name": "stdout",
     "output_type": "stream",
     "text": [
      "<class 'pandas.core.frame.DataFrame'>\n",
      "RangeIndex: 600 entries, 0 to 599\n",
      "Data columns (total 5 columns):\n",
      " #   Column      Non-Null Count  Dtype  \n",
      "---  ------      --------------  -----  \n",
      " 0   Name job    600 non-null    object \n",
      " 1   Link        600 non-null    object \n",
      " 2   Min_salary  187 non-null    float64\n",
      " 3   Max_salary  152 non-null    float64\n",
      " 4   Where       600 non-null    object \n",
      "dtypes: float64(2), object(3)\n",
      "memory usage: 23.6+ KB\n"
     ]
    }
   ],
   "source": [
    "df.info()"
   ]
  },
  {
   "cell_type": "code",
   "execution_count": null,
   "id": "91e0f7f4",
   "metadata": {},
   "outputs": [],
   "source": []
  }
 ],
 "metadata": {
  "kernelspec": {
   "display_name": "Python 3",
   "language": "python",
   "name": "python3"
  },
  "language_info": {
   "codemirror_mode": {
    "name": "ipython",
    "version": 3
   },
   "file_extension": ".py",
   "mimetype": "text/x-python",
   "name": "python",
   "nbconvert_exporter": "python",
   "pygments_lexer": "ipython3",
   "version": "3.8.8"
  }
 },
 "nbformat": 4,
 "nbformat_minor": 5
}

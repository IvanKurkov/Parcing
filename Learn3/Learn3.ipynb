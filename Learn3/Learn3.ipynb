{
 "cells": [
  {
   "cell_type": "markdown",
   "id": "38e03826",
   "metadata": {},
   "source": [
    "### 1. Развернуть у себя на компьютере/виртуальной машине/хостинге MongoDB и реализовать функцию, которая будет добавлять только новые вакансии/продукты в вашу базу.\n",
    "### 2. Написать функцию, которая производит поиск и выводит на экран вакансии с заработной платой больше введённой суммы (необходимо анализировать оба поля зарплаты). Для тех, кто выполнил задание с Росконтролем - напишите запрос для поиска продуктов с рейтингом не ниже введенного или качеством не ниже введенного (то есть цифра вводится одна, а запрос проверяет оба поля)"
   ]
  },
  {
   "cell_type": "code",
   "execution_count": 1,
   "id": "1c02fe6b",
   "metadata": {},
   "outputs": [],
   "source": [
    "from bs4 import BeautifulSoup as bs\n",
    "import requests\n",
    "import numpy as np\n",
    "import re\n",
    "import pandas as pd\n",
    "import json\n",
    "from pymongo import MongoClient\n",
    "from selenium import webdriver\n",
    "import time"
   ]
  },
  {
   "cell_type": "code",
   "execution_count": 2,
   "id": "d2f759dc",
   "metadata": {},
   "outputs": [],
   "source": [
    "client = MongoClient('localhost', 27017)\n",
    "db = client['pacring_job_sites_db']\n",
    "collection = db['hh_superjobs']"
   ]
  },
  {
   "cell_type": "code",
   "execution_count": 3,
   "id": "48b2963b",
   "metadata": {},
   "outputs": [
    {
     "name": "stdout",
     "output_type": "stream",
     "text": [
      "Какую должность ищем: Python\n",
      "Сколько страниц Superjobs анализировать: 1\n",
      "Сколько страниц HH анализировать: 1\n"
     ]
    }
   ],
   "source": [
    "# Определяем параметры\n",
    "\n",
    "vac = input(\"Какую должность ищем: \")\n",
    "max_list_sj = int(input(\"Сколько страниц Superjobs анализировать: \"))\n",
    "max_list_hh = int(input(\"Сколько страниц HH анализировать: \"))"
   ]
  },
  {
   "cell_type": "code",
   "execution_count": 4,
   "id": "efe8294a",
   "metadata": {},
   "outputs": [],
   "source": [
    "#Идея привести все ЗП к одному виду мне понравилась, попробовал тоже реализовать это.\n",
    "cur_req = requests.get(\"https://www.cbr-xml-daily.ru/daily_json.js\")    \n",
    "cur = json.loads(cur_req.text)  "
   ]
  },
  {
   "cell_type": "code",
   "execution_count": 5,
   "id": "a1515855",
   "metadata": {},
   "outputs": [
    {
     "name": "stderr",
     "output_type": "stream",
     "text": [
      "<ipython-input-5-898f30334fae>:7: DeprecationWarning: executable_path has been deprecated, please pass in a Service object\n",
      "  driver = webdriver.Chrome(executable_path=r\"C:\\Users\\user\\Git\\Parcing\\chromedriver.exe\")\n",
      "<ipython-input-5-898f30334fae>:58: DeprecationWarning: update is deprecated. Use replace_one, update_one or update_many instead.\n",
      "  collection.update(job_info, { '$set' : {'Ссылка на позицию' : job_info['Ссылка на позицию']}}, upsert=True)\n"
     ]
    }
   ],
   "source": [
    "# Забираем инфу с HH.ru\n",
    "\n",
    "\n",
    "\n",
    "for x in range(max_list_hh):\n",
    "    #Т.к. hh не отдает все карточки а только 20, пришлось использовать silenium чтобы сначала расскрывать страничку, потом парсить.\n",
    "    driver = webdriver.Chrome(executable_path=r\"C:\\Users\\user\\Git\\Parcing\\chromedriver.exe\")\n",
    "    driver.get(f'https://hh.ru/search/vacancy?area=1&fromSearchLine=true&text={vac}&from=suggest_post&page={x}')\n",
    "    time.sleep(5)\n",
    "    html = driver.page_source\n",
    "    #resphh = requests.get(f'https://hh.ru/search/vacancy?area=1&fromSearchLine=true&text={vac}&from=suggest_post&page={x}', headers = {'User-agent':'Chrome/63.0.3239.108'}).text\n",
    "    soup = bs(html, 'html.parser')\n",
    "    cards = soup.find_all(name='div', attrs={\"class\" : \"vacancy-serp-item\"} )\n",
    "    for i in cards:\n",
    "        name_job = i.find('a', attrs = {'data-qa': \"vacancy-serp__vacancy-title\"}).text\n",
    "        \n",
    "        link_job = i.find('a', attrs = {'data-qa': \"vacancy-serp__vacancy-title\"}).get('href')\n",
    "        \n",
    "        employer = i.find('a', attrs = {'data-qa': \"vacancy-serp__vacancy-employer\"}).text\n",
    "        employer_link = f\"https://hh.ru{i.find('a', attrs = {'data-qa': 'vacancy-serp__vacancy-employer'}).get('href')}\"\n",
    "        \n",
    "        address = i.find('div', attrs = {'data-qa': \"vacancy-serp__vacancy-address\"}).text\n",
    "        \n",
    "        cost = i.find('span', attrs = {'data-qa' : \"vacancy-serp__vacancy-compensation\"})\n",
    "        min_cost = np.nan\n",
    "        max_cost = np.nan\n",
    "        if cost:\n",
    "            cost = cost.text \n",
    "            cost = cost.replace(\"\\u202f\", \"\").replace(\" \", \"\")\n",
    "            if re.findall('^от[0-9]+', cost):\n",
    "                min_cost = int(re.findall('[0-9]+', cost)[0])\n",
    "            elif re.findall('^до[0-9]+', cost):\n",
    "                max_cost = int(re.findall('[0-9]+', cost)[0])\n",
    "            else:\n",
    "                min_cost = int(re.findall('[0-9]+', cost)[0])\n",
    "                max_cost = int(re.findall('[0-9]+', cost)[1])\n",
    "            if not re.findall('руб.', cost):\n",
    "                currency = re.findall('[A-Z]{2,5}', cost)[0]\n",
    "                if not np.isnan(min_cost):\n",
    "                    min_cost = int(min_cost*cur[\"Valute\"][currency][\"Value\"])//1000*1000\n",
    "                if not np.isnan(max_cost):\n",
    "                    max_cost = int(max_cost*cur[\"Valute\"][currency][\"Value\"])//1000*1000\n",
    "        #Собираем серию\n",
    "        \n",
    "        job_info = {}\n",
    "        job_info['Наименование должности'] = name_job\n",
    "        job_info['Ссылка на позицию'] = link_job\n",
    "        job_info['Минимальная ЗП'] = min_cost\n",
    "        job_info['Максимальная ЗП'] = max_cost\n",
    "        job_info['Сайт сбора позиции'] = \"hh.ru\"\n",
    "        job_info['Работадатель'] = employer\n",
    "        job_info['Ссылка на работодателя'] = employer_link\n",
    "        job_info['Место работы'] = address\n",
    "        \n",
    "        \n",
    "        #Вставляем в БД\n",
    "        \n",
    "        collection.update(job_info, { '$set' : {'Ссылка на позицию' : job_info['Ссылка на позицию']}}, upsert=True)\n",
    "        \n",
    "        #Таким образом получается, что даже если при поиске с разными запросами выдается одна и таже вакансия, то в базу она не дублируется, т.к. ссылка на вакансию статична.\n",
    "        \n"
   ]
  },
  {
   "cell_type": "code",
   "execution_count": 6,
   "id": "ea1f1a00",
   "metadata": {},
   "outputs": [
    {
     "name": "stderr",
     "output_type": "stream",
     "text": [
      "<ipython-input-6-c1bca9f99c08>:64: DeprecationWarning: update is deprecated. Use replace_one, update_one or update_many instead.\n",
      "  collection.update(job_info, { '$set' : {'Ссылка на позицию' : job_info['Ссылка на позицию']}}, upsert=True)\n"
     ]
    }
   ],
   "source": [
    "# Забираем инфу с Superjobs.ru\n",
    "\n",
    "\n",
    "\n",
    "for x in range(max_list_sj):\n",
    "    resphh = requests.get(f'https://www.superjob.ru/vacancy/search/?keywords={vac}&page={x}', headers = {'User-agent':'Mozilla/5.0'}).text\n",
    "    soup = bs(resphh, 'html.parser')\n",
    "    cards = soup.find_all(name='div', attrs={\"class\" : \"f-test-vacancy-item\"})\n",
    "    \n",
    "    for i in cards:\n",
    "        name_job = i.find('a', attrs = {'class': \"_6AfZ9\"}).text\n",
    "        \n",
    "        \n",
    "        link_job = f\"https://www.superjob.ru{i.find('a', attrs = {'class': '_6AfZ9'}).get('href')}\"\n",
    "        employer = i.find('a', attrs = {'class': \"_205Zx\"})\n",
    "        if employer:\n",
    "            employer = i.find('a', attrs = {'class': \"_205Zx\"}).text\n",
    "        \n",
    "            employer_link = f\"https://www.superjob.ru{i.find('a', attrs = {'class': '_205Zx'}).get('href')}\"\n",
    "        else:\n",
    "            employer = np.nan\n",
    "            employer_link = np.nan\n",
    "\n",
    "        address = i.find('span', attrs = {'class': 'f-test-text-company-item-location'}).find(lambda tag: len(tag.attrs) == 0).text\n",
    "             \n",
    "        cost = i.find('span', attrs = {'class' : '_2Wp8I'})\n",
    "         \n",
    "        cost = cost.text\n",
    "        cost = cost.replace(\"\\xa0\", \"\").replace(\" \", \"\")\n",
    "        if not re.findall('[0-9]+', cost):\n",
    "            min_cost = np.nan\n",
    "            max_cost = np.nan                   \n",
    "        elif re.findall('^от[0-9]+', cost):\n",
    "            min_cost = int(re.findall('[0-9]+', cost)[0])\n",
    "        elif re.findall('^до[0-9]+', cost):\n",
    "            max_cost = int(re.findall('[0-9]+', cost)[0])\n",
    "        elif len(re.findall('[0-9]+', cost)) == 1:\n",
    "            min_cost = int(re.findall('[0-9]+', cost)[0])\n",
    "            max_cost = int(re.findall('[0-9]+', cost)[0])\n",
    "\n",
    "        else:\n",
    "            min_cost = int(re.findall('[0-9]+', cost)[0])\n",
    "            max_cost = int(re.findall('[0-9]+', cost)[1])\n",
    "        \n",
    "        if not re.findall('руб.', cost) and re.findall('[0-9]+', cost):\n",
    "            currency = re.findall('[A-Z]{2,5}', cost)[0]\n",
    "            if not np.isnan(min_cost):\n",
    "                min_cost = int(min_cost*cur[\"Valute\"][currency][\"Value\"])//1000*1000\n",
    "            if not np.isnan(max_cost):\n",
    "                max_cost = int(max_cost*cur[\"Valute\"][currency][\"Value\"])//1000*1000\n",
    "                \n",
    "        job_info = {}\n",
    "        job_info['Наименование должности'] = name_job\n",
    "        job_info['Ссылка на позицию'] = link_job\n",
    "        job_info['Минимальная ЗП'] = min_cost\n",
    "        job_info['Максимальная ЗП'] = max_cost\n",
    "        job_info['Сайт сбора позиции'] = \"superjob.ru\"\n",
    "        job_info['Работадатель'] = employer\n",
    "        job_info['Ссылка на работодателя'] = employer_link\n",
    "        job_info['Место работы'] = address\n",
    "        \n",
    "        #Вставляем в БД\n",
    "        \n",
    "        collection.update(job_info, { '$set' : {'Ссылка на позицию' : job_info['Ссылка на позицию']}}, upsert=True)\n",
    "        \n",
    "        #Таким образом получается, что даже если при поиске с разными запросами выдается одна и таже вакансия, то в базу она не дублируется, т.к. ссылка на вакансию статична.\n",
    "        \n",
    "           \n"
   ]
  },
  {
   "cell_type": "code",
   "execution_count": 7,
   "id": "e053edd3",
   "metadata": {},
   "outputs": [
    {
     "name": "stdout",
     "output_type": "stream",
     "text": [
      "184\n"
     ]
    }
   ],
   "source": [
    "print(len([i for i in collection.find({})]))\n",
    "#Проверяем увеличивается ли коллекция, если пытаться добавить те же самые значения \\ добавлять новые"
   ]
  },
  {
   "cell_type": "code",
   "execution_count": 11,
   "id": "0e322080",
   "metadata": {},
   "outputs": [
    {
     "name": "stdout",
     "output_type": "stream",
     "text": [
      "От какой ЗП выводить: 100000\n"
     ]
    }
   ],
   "source": [
    "my_salary = int(input(\"От какой ЗП выводить: \"))"
   ]
  },
  {
   "cell_type": "code",
   "execution_count": 17,
   "id": "573c8e61",
   "metadata": {},
   "outputs": [
    {
     "name": "stdout",
     "output_type": "stream",
     "text": [
      "{'_id': ObjectId('617bc492d80d4894ad78b3d4'), 'Максимальная ЗП': nan, 'Место работы': 'Москва', 'Минимальная ЗП': 246000, 'Наименование должности': 'Middle/Senior Python developer', 'Работадатель': 'Unikoom', 'Сайт сбора позиции': 'hh.ru', 'Ссылка на позицию': 'https://hh.ru/vacancy/5144162', 'Ссылка на работодателя': 'https://hh.ru/employer/5144162'}\n",
      "{'_id': ObjectId('617bc492d80d4894ad78b3de'), 'Максимальная ЗП': 120000, 'Место работы': 'Москва, Выставочная и еще 2 ', 'Минимальная ЗП': 120000, 'Наименование должности': 'Junior Data Engineer (Python)', 'Работадатель': 'DataFork', 'Сайт сбора позиции': 'hh.ru', 'Ссылка на позицию': 'https://hh.ru/vacancy/3319598', 'Ссылка на работодателя': 'https://hh.ru/employer/3319598'}\n",
      "{'_id': ObjectId('617bc492d80d4894ad78b3e4'), 'Максимальная ЗП': 520000, 'Место работы': 'Москва', 'Минимальная ЗП': 330000, 'Наименование должности': 'Senior Back-end Engineer (Python)', 'Работадатель': 'Corrily', 'Сайт сбора позиции': 'hh.ru', 'Ссылка на позицию': 'https://hh.ru/vacancy/5787201', 'Ссылка на работодателя': 'https://hh.ru/employer/5787201'}\n",
      "{'_id': ObjectId('617bc492d80d4894ad78b3e8'), 'Максимальная ЗП': 270000, 'Место работы': 'Москва', 'Минимальная ЗП': 140000, 'Наименование должности': 'Junior/Middle Python developer', 'Работадатель': 'Lucky Hunter', 'Сайт сбора позиции': 'hh.ru', 'Ссылка на позицию': 'https://hh.ru/vacancy/3562949', 'Ссылка на работодателя': 'https://hh.ru/employer/3562949'}\n",
      "{'_id': ObjectId('617bc492d80d4894ad78b3ee'), 'Максимальная ЗП': nan, 'Место работы': 'Москва, Алексеевская', 'Минимальная ЗП': 150000, 'Наименование должности': 'Разработчик Python', 'Работадатель': 'Hello, Doc!', 'Сайт сбора позиции': 'hh.ru', 'Ссылка на позицию': 'https://hh.ru/vacancy/4744797', 'Ссылка на работодателя': 'https://hh.ru/employer/4744797'}\n",
      "{'_id': ObjectId('617bc492d80d4894ad78b3f2'), 'Максимальная ЗП': 450000, 'Место работы': 'Москва', 'Минимальная ЗП': 250000, 'Наименование должности': 'Python Backend Developer Blockchain', 'Работадатель': 'ИП\\xa0Валовой Сергей Александрович', 'Сайт сбора позиции': 'hh.ru', 'Ссылка на позицию': 'https://hh.ru/vacancy/5420312', 'Ссылка на работодателя': 'https://hh.ru/employer/5420312'}\n",
      "{'_id': ObjectId('617bc492d80d4894ad78b3f4'), 'Максимальная ЗП': nan, 'Место работы': 'Москва', 'Минимальная ЗП': 300000, 'Наименование должности': 'Разработчик Rust/Разработчик Go/Разрабочтик python(удаленно)', 'Работадатель': 'ArtVolkov.ru', 'Сайт сбора позиции': 'hh.ru', 'Ссылка на позицию': 'https://hh.ru/vacancy/578702', 'Ссылка на работодателя': 'https://hh.ru/employer/578702'}\n",
      "{'_id': ObjectId('617bc492d80d4894ad78b3f6'), 'Максимальная ЗП': nan, 'Место работы': 'Москва, Менделеевская', 'Минимальная ЗП': 250000, 'Наименование должности': 'Middle Python-разработчик', 'Работадатель': 'FINPAY', 'Сайт сбора позиции': 'hh.ru', 'Ссылка на позицию': 'https://hh.ru/vacancy/5211392', 'Ссылка на работодателя': 'https://hh.ru/employer/5211392'}\n",
      "{'_id': ObjectId('617bc53fd80d4894ad78b46c'), 'Максимальная ЗП': 250000, 'Место работы': 'Москва', 'Минимальная ЗП': 180000, 'Наименование должности': 'Middle Data Engineer', 'Работадатель': 'Educate Online Inc', 'Сайт сбора позиции': 'hh.ru', 'Ссылка на позицию': 'https://hh.ru/vacancy/4068399', 'Ссылка на работодателя': 'https://hh.ru/employer/4068399'}\n",
      "{'_id': ObjectId('617bc53fd80d4894ad78b46e'), 'Максимальная ЗП': nan, 'Место работы': 'Москва', 'Минимальная ЗП': 300000, 'Наименование должности': 'Senior QA Automation Engineer (Python)', 'Работадатель': 'Scalable Solutions', 'Сайт сбора позиции': 'hh.ru', 'Ссылка на позицию': 'https://hh.ru/vacancy/5078562', 'Ссылка на работодателя': 'https://hh.ru/employer/5078562'}\n",
      "{'_id': ObjectId('617bc53fd80d4894ad78b478'), 'Максимальная ЗП': 368000, 'Место работы': 'Москва', 'Минимальная ЗП': 163000, 'Наименование должности': 'Senior Python-разработчик', 'Работадатель': 'IBIT', 'Сайт сбора позиции': 'hh.ru', 'Ссылка на позицию': 'https://hh.ru/vacancy/1818108', 'Ссылка на работодателя': 'https://hh.ru/employer/1818108'}\n",
      "{'_id': ObjectId('617bc53fd80d4894ad78b480'), 'Максимальная ЗП': 320000, 'Место работы': 'Москва', 'Минимальная ЗП': 230000, 'Наименование должности': 'Senior Python Engineer (Remote)', 'Работадатель': 'Spark Equation', 'Сайт сбора позиции': 'hh.ru', 'Ссылка на позицию': 'https://hh.ru/vacancy/1787419', 'Ссылка на работодателя': 'https://hh.ru/employer/1787419'}\n",
      "{'_id': ObjectId('617bc53fd80d4894ad78b484'), 'Максимальная ЗП': 200000, 'Место работы': 'Москва', 'Минимальная ЗП': 160000, 'Наименование должности': 'Middle Python Developer', 'Работадатель': 'АО\\xa0ЮНИС Лабс Солюшинз', 'Сайт сбора позиции': 'hh.ru', 'Ссылка на позицию': 'https://hh.ru/vacancy/253771', 'Ссылка на работодателя': 'https://hh.ru/employer/253771'}\n",
      "{'_id': ObjectId('617bc53fd80d4894ad78b486'), 'Максимальная ЗП': nan, 'Место работы': 'Москва', 'Минимальная ЗП': 280000, 'Наименование должности': 'Lead Backend Developer (Python)', 'Работадатель': 'ООО\\xa0Иглу', 'Сайт сбора позиции': 'hh.ru', 'Ссылка на позицию': 'https://hh.ru/vacancy/4026570', 'Ссылка на работодателя': 'https://hh.ru/employer/4026570'}\n",
      "{'_id': ObjectId('617bc53fd80d4894ad78b488'), 'Максимальная ЗП': 300000, 'Место работы': 'Москва', 'Минимальная ЗП': 250000, 'Наименование должности': 'Senior Python developer (python3.8. + django)', 'Работадатель': 'TopsWeTeam', 'Сайт сбора позиции': 'hh.ru', 'Ссылка на позицию': 'https://hh.ru/vacancy/5753850', 'Ссылка на работодателя': 'https://hh.ru/employer/5753850'}\n",
      "{'_id': ObjectId('617bc53fd80d4894ad78b48e'), 'Максимальная ЗП': nan, 'Место работы': 'Москва', 'Минимальная ЗП': 150000, 'Наименование должности': 'Python Developer (remote)', 'Работадатель': 'Brandquad', 'Сайт сбора позиции': 'hh.ru', 'Ссылка на позицию': 'https://hh.ru/vacancy/2131829', 'Ссылка на работодателя': 'https://hh.ru/employer/2131829'}\n",
      "{'_id': ObjectId('617bc53fd80d4894ad78b490'), 'Максимальная ЗП': nan, 'Место работы': 'Москва', 'Минимальная ЗП': 230000, 'Наименование должности': 'Senior Python developer', 'Работадатель': 'Fitingo', 'Сайт сбора позиции': 'hh.ru', 'Ссылка на позицию': 'https://hh.ru/vacancy/5677303', 'Ссылка на работодателя': 'https://hh.ru/employer/5677303'}\n",
      "{'_id': ObjectId('617bc53fd80d4894ad78b492'), 'Максимальная ЗП': 409000, 'Место работы': 'Москва', 'Минимальная ЗП': 327000, 'Наименование должности': 'Senior Python developer - STASIS', 'Работадатель': 'EXANTE', 'Сайт сбора позиции': 'hh.ru', 'Ссылка на позицию': 'https://hh.ru/vacancy/597423', 'Ссылка на работодателя': 'https://hh.ru/employer/597423'}\n",
      "{'_id': ObjectId('617bc540d80d4894ad78b49c'), 'Максимальная ЗП': 352000, 'Место работы': 'Москва', 'Минимальная ЗП': 211000, 'Наименование должности': 'Python Senior Backend Developer', 'Работадатель': 'GenX', 'Сайт сбора позиции': 'hh.ru', 'Ссылка на позицию': 'https://hh.ru/vacancy/5153580', 'Ссылка на работодателя': 'https://hh.ru/employer/5153580'}\n",
      "{'_id': ObjectId('617bc540d80d4894ad78b49e'), 'Максимальная ЗП': nan, 'Место работы': 'Москва', 'Минимальная ЗП': 150000, 'Наименование должности': 'Python разработчик (FastAPI / aiohttp / sanic)', 'Работадатель': 'HuskyJam', 'Сайт сбора позиции': 'hh.ru', 'Ссылка на позицию': 'https://hh.ru/vacancy/2029737', 'Ссылка на работодателя': 'https://hh.ru/employer/2029737'}\n",
      "{'_id': ObjectId('617bc540d80d4894ad78b4a2'), 'Максимальная ЗП': 230000, 'Место работы': 'Москва, Выставочная и еще 2 ', 'Минимальная ЗП': 180000, 'Наименование должности': 'Python developer', 'Работадатель': 'B2Broker Москва', 'Сайт сбора позиции': 'hh.ru', 'Ссылка на позицию': 'https://hh.ru/vacancy/2234168', 'Ссылка на работодателя': 'https://hh.ru/employer/2234168?dpt=2234168-2234168-msk'}\n",
      "{'_id': ObjectId('617bc540d80d4894ad78b4a8'), 'Максимальная ЗП': 250000, 'Место работы': 'Москва', 'Минимальная ЗП': 180000, 'Наименование должности': 'Middle QA Automation Engineer (Python)', 'Работадатель': 'Scalable Solutions', 'Сайт сбора позиции': 'hh.ru', 'Ссылка на позицию': 'https://hh.ru/vacancy/5078562', 'Ссылка на работодателя': 'https://hh.ru/employer/5078562'}\n",
      "{'_id': ObjectId('617bc540d80d4894ad78b4ae'), 'Максимальная ЗП': 423000, 'Место работы': 'Москва', 'Минимальная ЗП': 282000, 'Наименование должности': 'Senior Python Developer', 'Работадатель': 'Top Remote Talent', 'Сайт сбора позиции': 'hh.ru', 'Ссылка на позицию': 'https://hh.ru/vacancy/4955407', 'Ссылка на работодателя': 'https://hh.ru/employer/4955407'}\n",
      "{'_id': ObjectId('617bc540d80d4894ad78b4b8'), 'Максимальная ЗП': nan, 'Место работы': 'Москва', 'Минимальная ЗП': 150000, 'Наименование должности': 'Python developer (middle)', 'Работадатель': 'Fitingo', 'Сайт сбора позиции': 'hh.ru', 'Ссылка на позицию': 'https://hh.ru/vacancy/5677303', 'Ссылка на работодателя': 'https://hh.ru/employer/5677303'}\n",
      "{'_id': ObjectId('617bc622d80d4894ad78b56e'), 'Максимальная ЗП': 250000, 'Место работы': 'Москва, Маяковская и еще 1 ', 'Минимальная ЗП': 110000, 'Наименование должности': 'Python Django developer', 'Работадатель': 'ООО\\xa0БОЛЬШАЯ ТРОЙКА', 'Сайт сбора позиции': 'hh.ru', 'Ссылка на позицию': 'https://hh.ru/vacancy/2464195', 'Ссылка на работодателя': 'https://hh.ru/employer/2464195'}\n",
      "{'_id': ObjectId('617bdbd7d80d4894ad78bfbb'), 'Максимальная ЗП': nan, 'Место работы': 'Москва, Белорусская', 'Минимальная ЗП': 250000, 'Наименование должности': 'Senior Python Developer', 'Работадатель': 'inDriver', 'Сайт сбора позиции': 'hh.ru', 'Ссылка на позицию': 'https://hh.ru/vacancy/2524797', 'Ссылка на работодателя': 'https://hh.ru/employer/2524797'}\n",
      "{'_id': ObjectId('617bdbd7d80d4894ad78bfbd'), 'Максимальная ЗП': 220000, 'Место работы': 'Москва, Сухаревская', 'Минимальная ЗП': 170000, 'Наименование должности': 'Разработчик-Python (Django, DRF)', 'Работадатель': 'ООО\\xa0Фабрика Решений', 'Сайт сбора позиции': 'hh.ru', 'Ссылка на позицию': 'https://hh.ru/vacancy/4596113', 'Ссылка на работодателя': 'https://hh.ru/employer/4596113'}\n",
      "{'_id': ObjectId('617bdbd8d80d4894ad78bfd5'), 'Максимальная ЗП': nan, 'Место работы': 'Москва', 'Минимальная ЗП': 150000, 'Наименование должности': 'Python разработчик / программист Python (Python Developer)', 'Работадатель': 'ДВ технологии', 'Сайт сбора позиции': 'hh.ru', 'Ссылка на позицию': 'https://hh.ru/vacancy/4276064', 'Ссылка на работодателя': 'https://hh.ru/employer/4276064'}\n",
      "{'_id': ObjectId('617bdbedd80d4894ad78c050'), 'Максимальная ЗП': 370000, 'Место работы': 'Москва', 'Минимальная ЗП': 164000, 'Наименование должности': 'Senior Python-разработчик', 'Работадатель': 'IBIT', 'Сайт сбора позиции': 'hh.ru', 'Ссылка на позицию': 'https://hh.ru/vacancy/1818108', 'Ссылка на работодателя': 'https://hh.ru/employer/1818108'}\n",
      "{'_id': ObjectId('617bf145d80d4894ad78c97a'), 'Максимальная ЗП': 300000, 'Место работы': 'Москва, Белорусская', 'Минимальная ЗП': 150000, 'Наименование должности': 'Python developer / Data engineer (Middle)', 'Работадатель': 'Wunder Fund', 'Сайт сбора позиции': 'hh.ru', 'Ссылка на позицию': 'https://hh.ru/vacancy/4558995', 'Ссылка на работодателя': 'https://hh.ru/employer/4558995'}\n",
      "{'_id': ObjectId('617bf145d80d4894ad78c97d'), 'Максимальная ЗП': 220000, 'Место работы': 'Москва', 'Минимальная ЗП': 150000, 'Наименование должности': 'Бэкенд-разработчик Python/Middle Python/ Python Developer (Remote)', 'Работадатель': 'ЮТэйр, Авиакомпания', 'Сайт сбора позиции': 'hh.ru', 'Ссылка на позицию': 'https://hh.ru/vacancy/17713', 'Ссылка на работодателя': 'https://hh.ru/employer/17713'}\n",
      "{'_id': ObjectId('617c09ebd80d4894ad78d3ba'), 'Максимальная ЗП': nan, 'Место работы': 'Москва', 'Минимальная ЗП': 246000, 'Наименование должности': 'Middle/Senior Python developer', 'Работадатель': 'Unikoom', 'Сайт сбора позиции': 'hh.ru', 'Ссылка на позицию': 'https://hh.ru/vacancy/49194069?from=vacancy_search_list&query=Python', 'Ссылка на работодателя': 'https://hh.ru/employer/5144162'}\n",
      "{'_id': ObjectId('617c09ebd80d4894ad78d3c4'), 'Максимальная ЗП': 120000, 'Место работы': 'Москва, Выставочная и еще 2 ', 'Минимальная ЗП': 120000, 'Наименование должности': 'Junior Data Engineer (Python)', 'Работадатель': 'DataFork', 'Сайт сбора позиции': 'hh.ru', 'Ссылка на позицию': 'https://hh.ru/vacancy/47914759?from=vacancy_search_list&query=Python', 'Ссылка на работодателя': 'https://hh.ru/employer/3319598'}\n",
      "{'_id': ObjectId('617c09ebd80d4894ad78d3ca'), 'Максимальная ЗП': 520000, 'Место работы': 'Москва', 'Минимальная ЗП': 330000, 'Наименование должности': 'Senior Back-end Engineer (Python)', 'Работадатель': 'Corrily', 'Сайт сбора позиции': 'hh.ru', 'Ссылка на позицию': 'https://hh.ru/vacancy/48855094?from=vacancy_search_list&query=Python', 'Ссылка на работодателя': 'https://hh.ru/employer/5787201'}\n",
      "{'_id': ObjectId('617c09ebd80d4894ad78d3ce'), 'Максимальная ЗП': 270000, 'Место работы': 'Москва', 'Минимальная ЗП': 140000, 'Наименование должности': 'Junior/Middle Python developer', 'Работадатель': 'Lucky Hunter', 'Сайт сбора позиции': 'hh.ru', 'Ссылка на позицию': 'https://hh.ru/vacancy/49164157?from=vacancy_search_list&query=Python', 'Ссылка на работодателя': 'https://hh.ru/employer/3562949'}\n",
      "{'_id': ObjectId('617c09ebd80d4894ad78d3d4'), 'Максимальная ЗП': nan, 'Место работы': 'Москва, Алексеевская', 'Минимальная ЗП': 150000, 'Наименование должности': 'Разработчик Python', 'Работадатель': 'Hello, Doc!', 'Сайт сбора позиции': 'hh.ru', 'Ссылка на позицию': 'https://hh.ru/vacancy/48887753?from=vacancy_search_list&query=Python', 'Ссылка на работодателя': 'https://hh.ru/employer/4744797'}\n",
      "{'_id': ObjectId('617c09ebd80d4894ad78d3da'), 'Максимальная ЗП': 450000, 'Место работы': 'Москва', 'Минимальная ЗП': 250000, 'Наименование должности': 'Python Backend Developer Blockchain', 'Работадатель': 'ИП\\xa0Валовой Сергей Александрович', 'Сайт сбора позиции': 'hh.ru', 'Ссылка на позицию': 'https://hh.ru/vacancy/48663627?from=vacancy_search_list&query=Python', 'Ссылка на работодателя': 'https://hh.ru/employer/5420312'}\n",
      "{'_id': ObjectId('617c09ebd80d4894ad78d3dc'), 'Максимальная ЗП': nan, 'Место работы': 'Москва, Менделеевская', 'Минимальная ЗП': 250000, 'Наименование должности': 'Middle Python-разработчик', 'Работадатель': 'FINPAY', 'Сайт сбора позиции': 'hh.ru', 'Ссылка на позицию': 'https://hh.ru/vacancy/49121141?from=vacancy_search_list&query=Python', 'Ссылка на работодателя': 'https://hh.ru/employer/5211392'}\n",
      "{'_id': ObjectId('617c09ebd80d4894ad78d3e0'), 'Максимальная ЗП': 220000, 'Место работы': 'Москва', 'Минимальная ЗП': 150000, 'Наименование должности': 'Бэкенд-разработчик Python/Middle Python/ Python Developer (Remote)', 'Работадатель': 'ЮТэйр, Авиакомпания', 'Сайт сбора позиции': 'hh.ru', 'Ссылка на позицию': 'https://hh.ru/vacancy/48638057?from=vacancy_search_list&query=Python', 'Ссылка на работодателя': 'https://hh.ru/employer/17713'}\n",
      "{'_id': ObjectId('617c09ebd80d4894ad78d3e2'), 'Максимальная ЗП': nan, 'Место работы': 'Москва', 'Минимальная ЗП': 300000, 'Наименование должности': 'Разработчик Rust/Разработчик Go/Разрабочтик python(удаленно)', 'Работадатель': 'ArtVolkov.ru', 'Сайт сбора позиции': 'hh.ru', 'Ссылка на позицию': 'https://hh.ru/vacancy/48457284?from=vacancy_search_list&query=Python', 'Ссылка на работодателя': 'https://hh.ru/employer/578702'}\n",
      "{'_id': ObjectId('617c09ebd80d4894ad78d3e6'), 'Максимальная ЗП': 400000, 'Место работы': 'Москва', 'Минимальная ЗП': 350000, 'Наименование должности': 'Python Team Lead (python3.8. + django)', 'Работадатель': 'TopsWeTeam', 'Сайт сбора позиции': 'hh.ru', 'Ссылка на позицию': 'https://hh.ru/vacancy/48493368?from=vacancy_search_list&query=Python', 'Ссылка на работодателя': 'https://hh.ru/employer/5753850'}\n",
      "{'_id': ObjectId('617c09ebd80d4894ad78d3ea'), 'Максимальная ЗП': nan, 'Место работы': 'Москва, Менделеевская', 'Минимальная ЗП': 300000, 'Наименование должности': 'Senior Python-разработчик', 'Работадатель': 'FINPAY', 'Сайт сбора позиции': 'hh.ru', 'Ссылка на позицию': 'https://hh.ru/vacancy/49121112?from=vacancy_search_list&query=Python', 'Ссылка на работодателя': 'https://hh.ru/employer/5211392'}\n",
      "{'_id': ObjectId('617c09ebd80d4894ad78d3ec'), 'Максимальная ЗП': 350000, 'Место работы': 'Москва, Курская и еще 2 ', 'Минимальная ЗП': 300000, 'Наименование должности': 'Senior Backend Developer (Python)', 'Работадатель': 'TIMELESS (ООО Оксбридж)', 'Сайт сбора позиции': 'hh.ru', 'Ссылка на позицию': 'https://hh.ru/vacancy/48449017?from=vacancy_search_list&query=Python', 'Ссылка на работодателя': 'https://hh.ru/employer/4421267'}\n",
      "{'_id': ObjectId('617c09ebd80d4894ad78d3ee'), 'Максимальная ЗП': 250000, 'Место работы': 'Москва', 'Минимальная ЗП': 180000, 'Наименование должности': 'Middle Python/Flask developer', 'Работадатель': 'ООО\\xa0Эксперум', 'Сайт сбора позиции': 'hh.ru', 'Ссылка на позицию': 'https://hh.ru/vacancy/48641636?from=vacancy_search_list&query=Python', 'Ссылка на работодателя': 'https://hh.ru/employer/3912653'}\n",
      "{'_id': ObjectId('617c09ebd80d4894ad78d3f0'), 'Максимальная ЗП': 340000, 'Место работы': 'Москва', 'Минимальная ЗП': 200000, 'Наименование должности': 'Python developer', 'Работадатель': 'ProfiStaff', 'Сайт сбора позиции': 'hh.ru', 'Ссылка на позицию': 'https://hh.ru/vacancy/49228210?from=vacancy_search_list&query=Python', 'Ссылка на работодателя': 'https://hh.ru/employer/25022'}\n",
      "{'_id': ObjectId('617c09ebd80d4894ad78d3f2'), 'Максимальная ЗП': 300000, 'Место работы': 'Москва, Белорусская', 'Минимальная ЗП': 150000, 'Наименование должности': 'Python developer / Data engineer (Middle)', 'Работадатель': 'Wunder Fund', 'Сайт сбора позиции': 'hh.ru', 'Ссылка на позицию': 'https://hh.ru/vacancy/49252631?from=vacancy_search_list&query=Python', 'Ссылка на работодателя': 'https://hh.ru/employer/4558995'}\n",
      "{'_id': ObjectId('617c09ebd80d4894ad78d3f4'), 'Максимальная ЗП': nan, 'Место работы': 'Москва', 'Минимальная ЗП': 130000, 'Наименование должности': 'Python-разработчик', 'Работадатель': 'FunBox', 'Сайт сбора позиции': 'hh.ru', 'Ссылка на позицию': 'https://hh.ru/vacancy/48973756?from=vacancy_search_list&query=Python', 'Ссылка на работодателя': 'https://hh.ru/employer/89953'}\n",
      "{'_id': ObjectId('617c09ebd80d4894ad78d3f8'), 'Максимальная ЗП': nan, 'Место работы': 'Москва', 'Минимальная ЗП': 230000, 'Наименование должности': 'Python разработчик', 'Работадатель': 'Ассоциация IPChain', 'Сайт сбора позиции': 'hh.ru', 'Ссылка на позицию': 'https://hh.ru/vacancy/49226749?from=vacancy_search_list&query=Python', 'Ссылка на работодателя': 'https://hh.ru/employer/3151408'}\n",
      "{'_id': ObjectId('617c09ebd80d4894ad78d3fa'), 'Максимальная ЗП': 250000, 'Место работы': 'Москва', 'Минимальная ЗП': 180000, 'Наименование должности': 'Data Scientist', 'Работадатель': 'CORE', 'Сайт сбора позиции': 'hh.ru', 'Ссылка на позицию': 'https://hh.ru/vacancy/48434078?from=vacancy_search_list&query=Python', 'Ссылка на работодателя': 'https://hh.ru/employer/1664868'}\n",
      "{'_id': ObjectId('617c09ebd80d4894ad78d3fc'), 'Максимальная ЗП': 300000, 'Место работы': 'Москва', 'Минимальная ЗП': 150000, 'Наименование должности': 'Backend разработчик (Python)', 'Работадатель': 'izi', 'Сайт сбора позиции': 'hh.ru', 'Ссылка на позицию': 'https://hh.ru/vacancy/48960196?from=vacancy_search_list&query=Python', 'Ссылка на работодателя': 'https://hh.ru/employer/5800791'}\n",
      "{'_id': ObjectId('617c09ebd80d4894ad78d3fe'), 'Максимальная ЗП': nan, 'Место работы': 'Москва, Курская', 'Минимальная ЗП': 211000, 'Наименование должности': 'Quantitative Developer (Python)', 'Работадатель': 'Profluent Group', 'Сайт сбора позиции': 'hh.ru', 'Ссылка на позицию': 'https://hh.ru/vacancy/49231766?from=vacancy_search_list&query=Python', 'Ссылка на работодателя': 'https://hh.ru/employer/4871538'}\n",
      "{'_id': ObjectId('617c09ebd80d4894ad78d400'), 'Максимальная ЗП': 160000, 'Место работы': 'Москва', 'Минимальная ЗП': 130000, 'Наименование должности': 'Python Developer (Django)', 'Работадатель': 'DAILO', 'Сайт сбора позиции': 'hh.ru', 'Ссылка на позицию': 'https://hh.ru/vacancy/48501689?from=vacancy_search_list&query=Python', 'Ссылка на работодателя': 'https://hh.ru/employer/4280985'}\n",
      "{'_id': ObjectId('617c09ebd80d4894ad78d402'), 'Максимальная ЗП': 180000, 'Место работы': 'Москва', 'Минимальная ЗП': 120000, 'Наименование должности': 'Python-разработчик (EdTech-стартап)', 'Работадатель': 'KRK Group', 'Сайт сбора позиции': 'hh.ru', 'Ссылка на позицию': 'https://hh.ru/vacancy/49242467?from=vacancy_search_list&query=Python', 'Ссылка на работодателя': 'https://hh.ru/employer/3950758'}\n",
      "{'_id': ObjectId('617c09ebd80d4894ad78d406'), 'Максимальная ЗП': 140000, 'Место работы': 'Москва', 'Минимальная ЗП': 140000, 'Наименование должности': 'Программист Python Django', 'Работадатель': 'Production IT', 'Сайт сбора позиции': 'hh.ru', 'Ссылка на позицию': 'https://hh.ru/vacancy/49056411?from=vacancy_search_list&query=Python', 'Ссылка на работодателя': 'https://hh.ru/employer/5257200'}\n",
      "{'_id': ObjectId('617c09ebd80d4894ad78d40c'), 'Максимальная ЗП': 200000, 'Место работы': 'Москва, Трубная и еще 2 ', 'Минимальная ЗП': 150000, 'Наименование должности': 'Middle Python developer', 'Работадатель': 'ООО\\xa0Селфсек', 'Сайт сбора позиции': 'hh.ru', 'Ссылка на позицию': 'https://hh.ru/vacancy/48586304?from=vacancy_search_list&query=Python', 'Ссылка на работодателя': 'https://hh.ru/employer/4920624'}\n",
      "{'_id': ObjectId('617c09ebd80d4894ad78d410'), 'Максимальная ЗП': nan, 'Место работы': 'Москва', 'Минимальная ЗП': 211000, 'Наименование должности': 'Python developer (проект)', 'Работадатель': 'ООО\\xa0Грин Грей Софтворкс', 'Сайт сбора позиции': 'hh.ru', 'Ссылка на позицию': 'https://hh.ru/vacancy/48875298?from=vacancy_search_list&query=Python', 'Ссылка на работодателя': 'https://hh.ru/employer/5008916'}\n",
      "{'_id': ObjectId('617c09ebd80d4894ad78d412'), 'Максимальная ЗП': 220000, 'Место работы': 'Москва', 'Минимальная ЗП': 180000, 'Наименование должности': 'Python/Django разработчик (Middle/Senjor)', 'Работадатель': 'ООО\\xa0Твой Рынок Онлайн', 'Сайт сбора позиции': 'hh.ru', 'Ссылка на позицию': 'https://hh.ru/vacancy/49226247?from=vacancy_search_list&query=Python', 'Ссылка на работодателя': 'https://hh.ru/employer/5561345'}\n",
      "{'_id': ObjectId('617c09ebd80d4894ad78d414'), 'Максимальная ЗП': 180000, 'Место работы': 'Москва', 'Минимальная ЗП': 120000, 'Наименование должности': 'Python Middle Developer', 'Работадатель': 'ООО\\xa0МКК Папазайм', 'Сайт сбора позиции': 'hh.ru', 'Ссылка на позицию': 'https://hh.ru/vacancy/49241176?from=vacancy_search_list&query=Python', 'Ссылка на работодателя': 'https://hh.ru/employer/5172404'}\n",
      "{'_id': ObjectId('617c09ebd80d4894ad78d416'), 'Максимальная ЗП': 250000, 'Место работы': 'Москва', 'Минимальная ЗП': 180000, 'Наименование должности': 'Middle Data Engineer', 'Работадатель': 'Educate Online Inc', 'Сайт сбора позиции': 'hh.ru', 'Ссылка на позицию': 'https://hh.ru/vacancy/49244803?from=vacancy_search_list&query=Python', 'Ссылка на работодателя': 'https://hh.ru/employer/4068399'}\n",
      "{'_id': ObjectId('617c09ebd80d4894ad78d41a'), 'Максимальная ЗП': nan, 'Место работы': 'Москва', 'Минимальная ЗП': 300000, 'Наименование должности': 'Senior QA Automation Engineer (Python)', 'Работадатель': 'Scalable Solutions', 'Сайт сбора позиции': 'hh.ru', 'Ссылка на позицию': 'https://hh.ru/vacancy/45114743?from=vacancy_search_list&query=Python', 'Ссылка на работодателя': 'https://hh.ru/employer/5078562'}\n",
      "{'_id': ObjectId('617c09ebd80d4894ad78d41c'), 'Максимальная ЗП': 250000, 'Место работы': 'Москва, Маяковская и еще 1 ', 'Минимальная ЗП': 110000, 'Наименование должности': 'Python Django developer', 'Работадатель': 'ООО\\xa0БОЛЬШАЯ ТРОЙКА', 'Сайт сбора позиции': 'hh.ru', 'Ссылка на позицию': 'https://hh.ru/vacancy/48701378?from=vacancy_search_list&query=Python', 'Ссылка на работодателя': 'https://hh.ru/employer/2464195'}\n",
      "{'_id': ObjectId('617c09edd80d4894ad78d41e'), 'Максимальная ЗП': 350000, 'Место работы': 'Москва', 'Минимальная ЗП': 110000, 'Наименование должности': 'Python Developer', 'Работадатель': 'КонсалтПро', 'Сайт сбора позиции': 'superjob.ru', 'Ссылка на позицию': 'https://www.superjob.ru/vakansii/python-developer-39812948.html', 'Ссылка на работодателя': 'https://www.superjob.ru/clients/konsaltpro-2797123.html'}\n",
      "{'_id': ObjectId('617c09edd80d4894ad78d422'), 'Максимальная ЗП': 185000, 'Место работы': 'Москва', 'Минимальная ЗП': 185000, 'Наименование должности': 'Python Backend Developer / WEB-разработчик', 'Работадатель': 'Perfect Systems', 'Сайт сбора позиции': 'superjob.ru', 'Ссылка на позицию': 'https://www.superjob.ru/vakansii/python-backend-developer-39595398.html', 'Ссылка на работодателя': 'https://www.superjob.ru/clients/perfect-systems-4144490.html'}\n",
      "{'_id': ObjectId('617c09edd80d4894ad78d424'), 'Максимальная ЗП': 185000, 'Место работы': 'Москва, Большая Тульская улица, 43, Тульская\\xa0и ещё 9 станций', 'Минимальная ЗП': 180000, 'Наименование должности': 'Senior python developer / Teamlead (Odoo)', 'Работадатель': 'АЙКРАФТ', 'Сайт сбора позиции': 'superjob.ru', 'Ссылка на позицию': 'https://www.superjob.ru/vakansii/senior-python-developer-39529912.html', 'Ссылка на работодателя': 'https://www.superjob.ru/clients/ajkraft-142735.html'}\n",
      "{'_id': ObjectId('617c09edd80d4894ad78d426'), 'Максимальная ЗП': 150000, 'Место работы': 'Москва, Мясницкая улица, 11', 'Минимальная ЗП': 180000, 'Наименование должности': 'Middle Python QA Engineer', 'Работадатель': 'ГОУ Высшее профессиональное образование Государственный университет - Высшая школа экономики', 'Сайт сбора позиции': 'superjob.ru', 'Ссылка на позицию': 'https://www.superjob.ru/vakansii/middle-python-qa-engineer-39416782.html', 'Ссылка на работодателя': 'https://www.superjob.ru/clients/gou-vysshee-professionalnoe-obrazovanie-gosudarstvennyj-universitet---vysshaya-shkola-ekonomiki-59436.html'}\n",
      "{'_id': ObjectId('617c09edd80d4894ad78d429'), 'Максимальная ЗП': 140000, 'Место работы': 'Москва, улица Орджоникидзе, 11с44', 'Минимальная ЗП': 120000, 'Наименование должности': 'Python developer', 'Работадатель': 'Базис1', 'Сайт сбора позиции': 'superjob.ru', 'Ссылка на позицию': 'https://www.superjob.ru/vakansii/python-developer-39307397.html', 'Ссылка на работодателя': 'https://www.superjob.ru/clients/bazis1-4212188.html'}\n",
      "{'_id': ObjectId('617c09edd80d4894ad78d42c'), 'Максимальная ЗП': 320000, 'Место работы': 'Москва', 'Минимальная ЗП': 260000, 'Наименование должности': 'Senior Python developer (Fullstack)', 'Работадатель': 'БиДжи', 'Сайт сбора позиции': 'superjob.ru', 'Ссылка на позицию': 'https://www.superjob.ru/vakansii/senior-python-developer-39485242.html', 'Ссылка на работодателя': 'https://www.superjob.ru/clients/bidzhi-4222233.html'}\n",
      "{'_id': ObjectId('617c09edd80d4894ad78d42e'), 'Максимальная ЗП': 220000, 'Место работы': 'Москва', 'Минимальная ЗП': 260000, 'Наименование должности': 'Бэкенд-разработчик (Python, удаленная работа)', 'Работадатель': '\"Авиакомпания \"ЮТэйр\"', 'Сайт сбора позиции': 'superjob.ru', 'Ссылка на позицию': 'https://www.superjob.ru/vakansii/bekend-razrabotchik-39565873.html', 'Ссылка на работодателя': 'https://www.superjob.ru/clients/aviakompaniya-yutejr-239795.html'}\n",
      "{'_id': ObjectId('617c09edd80d4894ad78d431'), 'Максимальная ЗП': nan, 'Место работы': 'Москва', 'Минимальная ЗП': 120000, 'Наименование должности': 'Программист Python', 'Работадатель': 'Фирма ВОДОКОМФОРТ', 'Сайт сбора позиции': 'superjob.ru', 'Ссылка на позицию': 'https://www.superjob.ru/vakansii/programmist-python-39366981.html', 'Ссылка на работодателя': 'https://www.superjob.ru/clients/firma-vodokomfort-37863.html'}\n",
      "{'_id': ObjectId('617c09edd80d4894ad78d433'), 'Максимальная ЗП': 300000, 'Место работы': 'Москва', 'Минимальная ЗП': 240000, 'Наименование должности': 'Старший разработчик Python', 'Работадатель': '1ceo', 'Сайт сбора позиции': 'superjob.ru', 'Ссылка на позицию': 'https://www.superjob.ru/vakansii/starshij-razrabotchik-python-39531755.html', 'Ссылка на работодателя': 'https://www.superjob.ru/clients/1ceo-3452756.html'}\n",
      "{'_id': ObjectId('617c09edd80d4894ad78d435'), 'Максимальная ЗП': 250000, 'Место работы': 'Москва', 'Минимальная ЗП': 240000, 'Наименование должности': 'Разработчик Python + DS ML', 'Работадатель': 'Lion Recruitment', 'Сайт сбора позиции': 'superjob.ru', 'Ссылка на позицию': 'https://www.superjob.ru/vakansii/razrabotchik-python-39527128.html', 'Ссылка на работодателя': 'https://www.superjob.ru/clients/lion-recruitment-4146235.html'}\n",
      "{'_id': ObjectId('617c09edd80d4894ad78d437'), 'Максимальная ЗП': 300000, 'Место работы': 'Москва, Мясницкая улица, 11', 'Минимальная ЗП': 240000, 'Наименование должности': 'Senior Python Developer / Data Engineer', 'Работадатель': 'ГОУ Высшее профессиональное образование Государственный университет - Высшая школа экономики', 'Сайт сбора позиции': 'superjob.ru', 'Ссылка на позицию': 'https://www.superjob.ru/vakansii/senior-python-developer-39416755.html', 'Ссылка на работодателя': 'https://www.superjob.ru/clients/gou-vysshee-professionalnoe-obrazovanie-gosudarstvennyj-universitet---vysshaya-shkola-ekonomiki-59436.html'}\n",
      "{'_id': ObjectId('617c09edd80d4894ad78d439'), 'Максимальная ЗП': 350000, 'Место работы': 'Москва, Кутузовская', 'Минимальная ЗП': 240000, 'Наименование должности': 'Senior Python разработчик', 'Работадатель': 'КонсалтПро', 'Сайт сбора позиции': 'superjob.ru', 'Ссылка на позицию': 'https://www.superjob.ru/vakansii/senior-python-razrabotchik-39779427.html', 'Ссылка на работодателя': 'https://www.superjob.ru/clients/konsaltpro-2797123.html'}\n",
      "{'_id': ObjectId('617c295bd80d4894ad78e14f'), 'Максимальная ЗП': 320000, 'Место работы': 'Москва, Баррикадная и еще 1 ', 'Минимальная ЗП': 150000, 'Наименование должности': 'Python разработчик', 'Работадатель': 'АО\\xa0Семейный доктор', 'Сайт сбора позиции': 'hh.ru', 'Ссылка на позицию': 'https://hh.ru/vacancy/37486302?from=vacancy_search_list&query=Python', 'Ссылка на работодателя': 'https://hh.ru/employer/142683'}\n",
      "{'_id': ObjectId('617c295bd80d4894ad78e174'), 'Максимальная ЗП': 230000, 'Место работы': 'Москва', 'Минимальная ЗП': 150000, 'Наименование должности': 'Data Scientist', 'Работадатель': 'RIPE Capital', 'Сайт сбора позиции': 'hh.ru', 'Ссылка на позицию': 'https://hh.ru/vacancy/49257549?from=vacancy_search_list&query=Python', 'Ссылка на работодателя': 'https://hh.ru/employer/5823992'}\n",
      "{'_id': ObjectId('617c295cd80d4894ad78e193'), 'Максимальная ЗП': 150000, 'Место работы': 'Москва, Волгоградский проспект, Волгоградский проспект\\xa0и ещё 9 станций', 'Минимальная ЗП': 140000, 'Наименование должности': 'Разработчик SQL', 'Работадатель': 'Первая Экспедиционная Компания', 'Сайт сбора позиции': 'superjob.ru', 'Ссылка на позицию': 'https://www.superjob.ru/vakansii/razrabotchik-sql-38284142.html', 'Ссылка на работодателя': 'https://www.superjob.ru/clients/pervaya-ekspedicionnaya-kompaniya-155201.html'}\n"
     ]
    }
   ],
   "source": [
    "for i in collection.find({ \"$or\" : [{'Минимальная ЗП':{\"$gt\": my_salary}}]}):\n",
    "    print(i)"
   ]
  },
  {
   "cell_type": "code",
   "execution_count": null,
   "id": "527724e2",
   "metadata": {},
   "outputs": [],
   "source": []
  }
 ],
 "metadata": {
  "kernelspec": {
   "display_name": "Python 3",
   "language": "python",
   "name": "python3"
  },
  "language_info": {
   "codemirror_mode": {
    "name": "ipython",
    "version": 3
   },
   "file_extension": ".py",
   "mimetype": "text/x-python",
   "name": "python",
   "nbconvert_exporter": "python",
   "pygments_lexer": "ipython3",
   "version": "3.8.8"
  }
 },
 "nbformat": 4,
 "nbformat_minor": 5
}
